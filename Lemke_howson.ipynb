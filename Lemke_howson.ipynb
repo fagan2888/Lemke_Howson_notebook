{
 "cells": [
  {
   "cell_type": "markdown",
   "metadata": {},
   "source": [
    "# Lemke Howson: An algorithm to find Nash Equilibrium"
   ]
  },
  {
   "cell_type": "markdown",
   "metadata": {},
   "source": [
    "This notebook introduces Lemke Howson algorithm for finding Nash equilibrium of a two-player strategic form game. "
   ]
  },
  {
   "cell_type": "code",
   "execution_count": 1,
   "metadata": {
    "collapsed": true
   },
   "outputs": [],
   "source": [
    "import numpy as np\n",
    "import matplotlib.pyplot as plt"
   ]
  },
  {
   "cell_type": "markdown",
   "metadata": {},
   "source": [
    "## Two-Player Games in Strategic Form"
   ]
  },
  {
   "cell_type": "markdown",
   "metadata": {},
   "source": [
    "We are going to find Nash qquilibria (pure or mixed action) of a Two-Player Games $g = (I, (A_i)_{i \\in I}, (u_i)_{i \\in I})$, where \n",
    "\n",
    "* $I = \\{0, 1\\}$ is the set of players,\n",
    "* $M = \\{1, ..., m\\}, N = \\{m+1, ..., m+n\\}$ are the action spaces,\n",
    "* $\\Delta^L = \\{x \\in \\mathbb{R}^L_+ \\mid \\sum_{l \\in L} x_l = 1\\}, L=M, N$ are the mixed action spaces.\n",
    "* $A \\in \\mathbb{R}^{M \\times N}, B \\in \\mathbb{R}^{M \\times N}$ are the payoff matrixs for player 0 and 1, respectively, and similarly the expected payoffs are $x^{\\prime}Ay$ and $x^{\\prime}By$."
   ]
  },
  {
   "cell_type": "markdown",
   "metadata": {},
   "source": [
    "### Nash Equilibrium"
   ]
  },
  {
   "cell_type": "markdown",
   "metadata": {},
   "source": [
    "For $x \\in \\Delta^M$ and $y \\in \\Delta^N$, we define\n",
    "\n",
    "$$\n",
    "\\bar{x} = \\underset{j \\in N}{\\arg \\max}(B^{\\prime}x)_j, \\quad\n",
    "x^\\circ = \\{i \\in M \\mid x_i = 0\\} \\\\\n",
    "\\bar{y} = \\underset{i \\in M}{\\arg \\max}(A^{\\prime}y)_i, \\quad\n",
    "y^\\circ = \\{j \\in N \\mid y_j = 0\\} \\\\\n",
    "\\text{supp}(x) = \\{i \\mid x_i > 0\\}, \\quad \n",
    "\\text{supp}(y) = \\{j \\mid y_j > 0\\}\n",
    "$$\n",
    "\n",
    "According to von Stengel, B. (2007), we can judge whether $(x, y) \\in \\Delta^M \\times \\Delta^N$ is a Nash equilibrium by checking:\n",
    "\n",
    "* $\\text{supp}(x) \\subset \\bar{y}, \\text{supp}(y) \\subset \\bar{x}$, or\n",
    "* $\\bar{y} \\cup x^\\circ = M, \\bar{x} \\cup y^\\circ = N$, equivalently $(\\bar{x} \\cup x^\\circ) \\cup (\\bar{y} \\cup y^\\circ) = M \\cup N$.\n",
    "\n",
    "These two conditions are equivalent, so checking one is enough to find a Nash equilibrium."
   ]
  },
  {
   "cell_type": "markdown",
   "metadata": {},
   "source": [
    "Depending on these two conditions, we may use some algorithms to compute Nash equilibrium of any well-defined two-player strategic form game. However, we have to deal with some difficulties when facing degenerate games, as we will see later.\n",
    "\n",
    "We first consider the case with nondegenerate game, which is simpler."
   ]
  },
  {
   "cell_type": "markdown",
   "metadata": {},
   "source": [
    "# Nondegenerate game"
   ]
  },
  {
   "cell_type": "markdown",
   "metadata": {},
   "source": [
    "** Definition: ** A two-player game is nondegenerate if for any $x \\in \\Delta^M$ and any $y \\in \\Delta^N$, we have\n",
    "\n",
    "$$\n",
    "\\left| \\bar{x} \\right| \\leq \\left| \\text(supp)(x) \\right|, \\quad\n",
    "\\left| \\bar{y} \\right| \\leq \\left| \\text(supp)(y) \\right|,\n",
    "$$\n",
    "\n",
    "or equivalently,\n",
    "\n",
    "$$\n",
    "\\left| x^\\circ \\right| + \\left| \\bar{x} \\right| \\leq m, \\quad\n",
    "\\left| y^\\circ \\right| + \\left| \\bar{y} \\right| \\leq n.\n",
    "$$"
   ]
  },
  {
   "cell_type": "markdown",
   "metadata": {},
   "source": [
    "Combined with the condition a Nash equilibrium should satisfy described above, we know that if $(x, y)$ is a Nash equilibrium of a nondegenerate game, then\n",
    "\n",
    "$$\n",
    "\\left| \\text{supp}(x) \\right| = \\left| \\text{supp}(y) \\right|\n",
    "$$"
   ]
  },
  {
   "cell_type": "markdown",
   "metadata": {},
   "source": [
    "This reduces the number of possible support pairs for a Nash equilibrium a lot."
   ]
  },
  {
   "cell_type": "markdown",
   "metadata": {},
   "source": [
    "## Support Enumeration"
   ]
  },
  {
   "cell_type": "markdown",
   "metadata": {},
   "source": [
    "Before we introduce Lemke Howson algorithm, we introduce a method to find all Nash equilibria by iterating all mixed actions with equal-sized support pairs, and checking whether they can be a Nash equilibrium. This is called Support Enumeration."
   ]
  },
  {
   "cell_type": "markdown",
   "metadata": {},
   "source": [
    "For each $k=1, ..., \\text{min}\\{m, n\\}$ and each pair $(I, J)$, $I \\subset M$ and $J \\subset N$, such that $\\left| I \\right| = \\left| J \\right| = k$, the mixed action $(x, y)$ is a Nash equilibrium if it solves the systems of linear equations\n",
    "\n",
    "$$\n",
    "\\sum_{j \\in J} a_{ij} y_j = u \\text{ for } i \\in I, \\quad\n",
    "\\sum_{j \\in J} y_j = 1, \\\\\n",
    "\\sum_{i \\in I} b_{ij} x_i = v \\text{ for } j \\in J, \\quad\n",
    "\\sum_{i \\in I} x_i = 1\n",
    "$$\n",
    "\n",
    "And also satisfies that\n",
    "* $x_i > 0$ for all $i \\in I$ and $y_j >0$ for all $j \\in J$,\n",
    "* $u \\geq \\sum_{j \\in J} a_{ij} y_j$ for all $i \\not \\in I$ and $v \\geq \\sum_{i \\in I} b_{ij} x_i$ for all $j \\not \\in J$."
   ]
  },
  {
   "cell_type": "markdown",
   "metadata": {},
   "source": [
    "The systems of equations can be written in matrix form as \n",
    "\n",
    "$$\n",
    "C \\begin{pmatrix} y_J \\\\ u \\end{pmatrix} = e\n",
    "$$\n",
    "and\n",
    "$$\n",
    "D \\begin{pmatrix} x_I \\\\ v \\end{pmatrix} = e\n",
    "$$\n",
    "with\n",
    "$$\n",
    "C =\n",
    " \\begin{pmatrix}\n",
    " A_{IJ} & -\\mathbf{1} \\\\\n",
    " \\mathbf{1}' & 0\n",
    " \\end{pmatrix}, \\quad\n",
    "D =\n",
    " \\begin{pmatrix}\n",
    " B'_{JI} & -\\mathbf{1} \\\\\n",
    " \\mathbf{1}' & 0\n",
    " \\end{pmatrix}, \\quad\n",
    "e = \\begin{pmatrix}\\mathbf{0} \\\\ 1\\end{pmatrix},\n",
    "$$\n",
    "where\n",
    "$A_{IJ}$ is the submatrix of $A$ given by rows $I$ and columns $J$,\n",
    "$B'_{JI}$ is the submatrix of $B'$ given by rows $J$ and columns $I$, and\n",
    "$\\mathbf{0}$ and $\\mathbf{1}$ are the $k$-dimensional vectors of zeros and ones, respectively."
   ]
  },
  {
   "cell_type": "markdown",
   "metadata": {},
   "source": [
    "Using the algorithm described above, given a well-defined nondegenerate two-player game and a support pair $I, J$, we know whether there is a Nash equilirium corresponding to this support pair, and can calculate the NE $(x, y)$ if there is one.\n",
    "\n",
    "To make it convenient, we denote the actions by indices, which starts with 0 in Python."
   ]
  },
  {
   "cell_type": "markdown",
   "metadata": {},
   "source": [
    "### Code"
   ]
  },
  {
   "cell_type": "markdown",
   "metadata": {},
   "source": [
    "We first write a function which solves the system of linear equations for one player, which is the half of the whole system to find a Nash equilibiurm. In other word, it checks whether there exists a mixed action of opponent with support given, against which the actions in the player's own support are all best responses.\n",
    "\n",
    "* The arguments are\n",
    "  * numpy array `payoff_matrix`;\n",
    "  * list (or numpy array) `own_supp` for the support of the player in consideration;\n",
    "  * list (or numpy array) `opp_supp` for the support of the opponent player;\n",
    "  * numpy array `out` that stores the candidate mixed action.\n",
    "* If there is a mixed action of the opponent with support `opp_supp`\n",
    "  against which the actions in `own_supp` are best responses,\n",
    "  then return `True`; otherwise return `False`.\n",
    "  In the former case, the mixed action is stored in `out`.\n",
    "* Array `out` must be of length equal to the number of the opponent's actions."
   ]
  },
  {
   "cell_type": "code",
   "execution_count": 2,
   "metadata": {
    "collapsed": true
   },
   "outputs": [],
   "source": [
    "def indiff_mixed_action(payoff_matrix, own_supp, opp_supp, out):\n",
    "    # (number of own actions, number of opponent's actions)\n",
    "    nums_actions = payoff_matrix.shape\n",
    "    \n",
    "    # Support size\n",
    "    k = len(own_supp)\n",
    "    \n",
    "    # Matrix in the left hand side of the linear equation\n",
    "    a = np.empty((k+1, k+1))\n",
    "    a[:-1, :-1] = payoff_matrix[own_supp, :][:, opp_supp]\n",
    "    a[-1, :-1] = 1\n",
    "    a[:-1, -1] = -1\n",
    "    a[-1, -1] = 0\n",
    "    \n",
    "    # Vector in the right hand side of the linear equation\n",
    "    b = np.zeros(k+1)\n",
    "    b[-1] = 1\n",
    "    \n",
    "    try:\n",
    "        sol = np.linalg.solve(a, b)\n",
    "    except np.linalg.LinAlgError:\n",
    "        return False\n",
    "    \n",
    "    # Return False immediately if any of the \"probabilities\" is not positive\n",
    "    if (sol[:-1] <= 0).any():\n",
    "        return False\n",
    "    \n",
    "    own_supp_c = np.setdiff1d(np.arange(nums_actions[0]), own_supp)\n",
    "    # Return False immediately if the solution mixed action is not optimal\n",
    "    if (sol[-1] < payoff_matrix[own_supp_c, :][:, opp_supp] @ sol[:-1]).any():\n",
    "        return False\n",
    "    \n",
    "    out.fill(0)\n",
    "    out[opp_supp] = sol[:-1]\n",
    "    return True"
   ]
  },
  {
   "cell_type": "markdown",
   "metadata": {},
   "source": [
    "Given support $I$ and $J$, if for each player, the `indiff_mixed_action` returns `True`, then there is a Nash equilirium with support $I$ and $J$, and the mixed actions are just as calculated."
   ]
  },
  {
   "cell_type": "markdown",
   "metadata": {},
   "source": [
    "To find all Nash equilibria of a strategic form game, we just iterate all possible combinations of $I$ and $J$, and then apply `indiff_mixed_action` to each players with each support pair. If `indiff_mixed_action` returns `True` for both players, we store mixed actions in list `NEs`."
   ]
  },
  {
   "cell_type": "code",
   "execution_count": 3,
   "metadata": {
    "collapsed": true
   },
   "outputs": [],
   "source": [
    "import itertools\n",
    "\n",
    "def support_enumeration(A, B_T):\n",
    "    \"\"\"\n",
    "    Given a nondegenerate m x n bimatrix game (A, B_T), return a list of\n",
    "    all Nash equilibria computed by the support enumeration algorithm.\n",
    "    \n",
    "    Parameters\n",
    "    ----------\n",
    "    A : ndarray(float, ndim=2)\n",
    "        Payoff matrix for player 0, of shape (m, n).\n",
    "    \n",
    "    B_T : ndarray(float, ndim=2)\n",
    "        Payoff matrix for player 1, of shape (n, m).\n",
    "        \n",
    "    Returns\n",
    "    -------\n",
    "    NEs : list(tuple(ndarray(float, ndim=1)))\n",
    "        List containing tuples of Nash equilibrium mixed actions.\n",
    "    \n",
    "    \"\"\"\n",
    "    m, n = A.shape\n",
    "    NEs = []\n",
    "    for k in range(1, min(m, n)+1):\n",
    "        for I in itertools.combinations(range(m), k):\n",
    "            for J in itertools.combinations(range(n), k):\n",
    "                y = np.empty(n)\n",
    "                if indiff_mixed_action(A, list(I), list(J), y):\n",
    "                    x = np.empty(m)\n",
    "                    if indiff_mixed_action(B_T, list(J), list(I), x):\n",
    "                        NEs.append((x, y))\n",
    "    return NEs"
   ]
  },
  {
   "cell_type": "markdown",
   "metadata": {},
   "source": [
    "### Example"
   ]
  },
  {
   "cell_type": "markdown",
   "metadata": {},
   "source": [
    "Consider the example from von Stengel (2007):\n",
    "$$\n",
    "A =\n",
    "\\begin{bmatrix}\n",
    "3 & 3 \\\\\n",
    "2 & 5 \\\\\n",
    "0 & 6\n",
    "\\end{bmatrix},\n",
    "\\quad\n",
    "B =\n",
    "\\begin{bmatrix}\n",
    "3 & 2 \\\\\n",
    "2 & 6 \\\\\n",
    "3 & 1\n",
    "\\end{bmatrix}.\n",
    "$$"
   ]
  },
  {
   "cell_type": "markdown",
   "metadata": {},
   "source": [
    "The action spaces of players 0 and 1 are\n",
    "$$\n",
    "M = \\{0, 1, 2\\}, \\quad\n",
    "N = \\{0, 1\\}.\n",
    "$$"
   ]
  },
  {
   "cell_type": "markdown",
   "metadata": {},
   "source": [
    "Use `indiff_mixed_action` to find a Nash equilibrium, when $I = \\{0, 1\\}$ and $J = \\{0, 1\\}$."
   ]
  },
  {
   "cell_type": "code",
   "execution_count": 4,
   "metadata": {
    "collapsed": false
   },
   "outputs": [
    {
     "data": {
      "text/plain": [
       "True"
      ]
     },
     "execution_count": 4,
     "metadata": {},
     "output_type": "execute_result"
    }
   ],
   "source": [
    "# Define a two-player strategic form game\n",
    "A = np.array([[3, 3],\n",
    "              [2, 5],\n",
    "              [0 ,6]])\n",
    "B = np.array([[3, 2],\n",
    "              [2, 6],\n",
    "              [3, 1]])\n",
    "m, n = A.shape  # Numbers of actions of players 0 and 1, respectively\n",
    "M = np.arange(m)\n",
    "N = np.arange(n)\n",
    "\n",
    "# Set the equal-sized support pari I, J\n",
    "I = [0, 1]\n",
    "J = [0, 1]\n",
    "\n",
    "out = np.empty(n)\n",
    "indiff_mixed_action(A, I, J, out)"
   ]
  },
  {
   "cell_type": "code",
   "execution_count": 5,
   "metadata": {
    "collapsed": false
   },
   "outputs": [
    {
     "data": {
      "text/plain": [
       "array([ 0.66666667,  0.33333333])"
      ]
     },
     "execution_count": 5,
     "metadata": {},
     "output_type": "execute_result"
    }
   ],
   "source": [
    "out"
   ]
  },
  {
   "cell_type": "markdown",
   "metadata": {},
   "source": [
    "Use `support_enumeration`, we can find all Nash equilibria."
   ]
  },
  {
   "cell_type": "code",
   "execution_count": 6,
   "metadata": {
    "collapsed": false
   },
   "outputs": [
    {
     "data": {
      "text/plain": [
       "[(array([ 1.,  0.,  0.]), array([ 1.,  0.])),\n",
       " (array([ 0.8,  0.2,  0. ]), array([ 0.66666667,  0.33333333])),\n",
       " (array([ 0.        ,  0.33333333,  0.66666667]),\n",
       "  array([ 0.33333333,  0.66666667]))]"
      ]
     },
     "execution_count": 6,
     "metadata": {},
     "output_type": "execute_result"
    }
   ],
   "source": [
    "support_enumeration(A, B.T)"
   ]
  },
  {
   "cell_type": "markdown",
   "metadata": {},
   "source": [
    "In this game, there are 3 NEs."
   ]
  },
  {
   "cell_type": "markdown",
   "metadata": {},
   "source": [
    "Support Enumeration has one drawback, that the number of equal-sized support pairs increases quickly as the game gets larger:\n",
    "\n",
    "If $m = n$, the number of equal-sized support pairs is \n",
    "\n",
    "$$\n",
    "\\sum^n_{k=1} \\binom{n} {k} ^2 = \\binom {2n} {n} - 1 \\approx \\frac{4^n}{\\sqrt{\\pi n}}\n",
    "$$\n",
    "\n",
    "We can see that the number of equal-sized support pairs increase exponentially. That's why Lemke-Howson algorithm is more desirable, which is less computational intensive."
   ]
  },
  {
   "cell_type": "markdown",
   "metadata": {
    "collapsed": true
   },
   "source": [
    "## Lemke Howson"
   ]
  },
  {
   "cell_type": "markdown",
   "metadata": {},
   "source": [
    "### Polyhedrons and Labels"
   ]
  },
  {
   "cell_type": "markdown",
   "metadata": {},
   "source": [
    "Given a bimatrix game with payoff matrixs being $A$ and $B$ for player 0, 1 respectively, the best response can be represented as a polyhedron:\n",
    "\n",
    "$$\n",
    "\\bar{P} = \\{(x, v) \\in \\mathbb{R}^M \\times \\mathbb{R} \\mid x\\geq \\mathbf{0}, B^{\\prime}x \\leq v \\mathbf{1}, \\mathbf{1}^{\\prime}x = 1\\} \\\\\n",
    "\\bar{Q} = \\{(y, u) \\in \\mathbb{R}^N \\times \\mathbb{R} \\mid y\\geq \\mathbf{0}, A^{\\prime}y \\leq u \\mathbf{1}, \\mathbf{1}^{\\prime}y = 1\\}\n",
    "$$\n",
    "\n",
    "where $x \\in \\Delta^M$, $y \\in \\Delta^N$. $v$ is the upper bound of expected payoffs for player 1 choosing pure actions when player 0's mixed action is $x$. Similarly, $u$ is the upper bound of expected payoffs for player 0.  \n",
    "\n",
    "Define the *label* of a point in best response polyhedron as:  \n",
    "\n",
    "* $(x, v) \\in \\bar{P}$ has *label* $k \\in M \\cup N$ if \n",
    " * for $k = j \\in N$, $(B^{\\prime}x)_{j} = v$, so that $j \\in \\bar{x}$, or,\n",
    " * for $k = i \\in M$, $x_i = 0$, so that $i \\in x^{\\circ}$.\n",
    " \n",
    "* $(y, u) \\in \\bar{Q}$ has *label* $k \\in M \\cup N$ if \n",
    " * for $k = i \\in M$, $(A^{\\prime}y)_{i} = u$, so that $i \\in \\bar{y}$, or,\n",
    " * for $k = j \\in N$, $y_j = 0$, so that $j \\in y^{\\circ}$.\n",
    " \n",
    "Without loss of generality, we assume that $A$ and $B^{\\prime}$ are nonnegative and have no zero column. Dividing by $v$ and $u$, we can trun the best response polyhedron into a best response polytope:\n",
    "\n",
    "$$\n",
    "P = \\{x \\in \\mathbb{R}^M \\mid x \\geq \\mathbf{0}, B^{\\prime}x \\leq 1 \\} \\\\\n",
    "Q = \\{y \\in \\mathbb{R}^N \\mid y\\geq \\mathbf{0}, A^{\\prime}y \\leq 1\\}\n",
    "$$"
   ]
  },
  {
   "cell_type": "markdown",
   "metadata": {},
   "source": [
    "Using the same example as in the Support Enumeration, where \n",
    "\n",
    "$$\n",
    "M = \\{1, 2, 3\\}, \\quad\n",
    "N = \\{4, 5\\}. \\\\\n",
    "A =\n",
    "\\begin{bmatrix}\n",
    "3 & 3 \\\\\n",
    "2 & 5 \\\\\n",
    "0 & 6\n",
    "\\end{bmatrix},\n",
    "\\quad\n",
    "B =\n",
    "\\begin{bmatrix}\n",
    "3 & 2 \\\\\n",
    "2 & 6 \\\\\n",
    "3 & 1\n",
    "\\end{bmatrix}.\n",
    "$$\n",
    "\n",
    "We can draw the best response polytope as follows.\n",
    "\n",
    "(Note that here the actions are indexed as $\\{1, 2, 3\\}$ and $ \\{4, 5\\}$ to prevent ambiguity. When we implement the Lemke Howson algorithm using Python, it will be indexed by $\\{0, 1, 2\\}$ and $ \\{0, 1\\}$ as before.)"
   ]
  },
  {
   "cell_type": "markdown",
   "metadata": {},
   "source": [
    "![Lemke_Howson_Fig1](https://raw.githubusercontent.com/shizejin/Lemke_Howson_notebook/master/Lemke_Howson_Fig1.png)"
   ]
  },
  {
   "cell_type": "markdown",
   "metadata": {},
   "source": [
    "$((x, v), (y, u)) \\in \\bar{P} \\times \\bar{Q}$ is *completely labeled* if every $k \\in M \\cup N$ appears as a label of either $(x, v)$ or $(y, u)$.\n",
    "\n",
    "In the context of best response polyhedron and labels, we can define Nash equilibrium as:  \n",
    "* $(x, y) \\in \\Delta^{M} \\times \\Delta^{N}$ is a Nash equilibrium if and only if $((x, v), (y, u))$ with $u = \\text{max}_i (Ay)_i$ and $v = \\text{max}_j (B^{\\prime}x)_j$ is completely labeled.\n",
    "\n",
    "The transformed best response polytope is a special case where $u = v = 1$, and we have\n",
    "\n",
    "* $(x, y) \\in P \\times Q$, $(x, y) \\neq (\\mathbf{0}, \\mathbf{0})$, is an (\"un-normalized\") Nash equilibirum if and only if $(x, y)$ is completely labeled."
   ]
  },
  {
   "cell_type": "markdown",
   "metadata": {},
   "source": [
    "If the game is nondegenerate, it is easy to know that in $P(Q)$, only vertices can have $m(n)$ labels.\n",
    "\n",
    "Thus, the Nash equilibrium is confined in vertice pairs of two best response polyhedra. We can find a Nash equilibrium by enumerating vertice pairs to find completely labeled one. However, Lemke Howson algorithm provides a more efficient way that avoids enumerating."
   ]
  },
  {
   "cell_type": "markdown",
   "metadata": {},
   "source": [
    "### Lemke Howson algorithm for finding completely labeled vertice pairs"
   ]
  },
  {
   "cell_type": "markdown",
   "metadata": {},
   "source": [
    "By all defintion, $(\\mathbf{0}, \\mathbf{0}) \\in P \\times Q$ is completely labeled. However, it is not a Nash equilibrium. We call it \"artificial equilibrium\". The Lemke Howson algorithm starts from $(\\mathbf{0}, \\mathbf{0})$, and moves the vertice by replacing the labels in $P$ and $Q$ in turn until it is completely labeled.\n",
    "\n",
    "In detail, in the same example as before:\n",
    "\n",
    "* $(\\mathbf{0}, \\mathbf{0})$ has labels {1, 2, 3}, {4, 5}\n",
    "* $(\\mathbf{0}, \\mathbf{0}) \\rightarrow (c, \\mathbf{0})$ with label {1, 3, 5}, {4, 5}  \n",
    " Drop Label 2 in $P$ (Label to drop is arbitrarily chosen in the first step). Label 5 is picked up.\n",
    "* $(c, \\mathbf{0}) \\rightarrow (c, p)$ with label {1, 3, 5}, {3, 4}  \n",
    " Drop Label 5 in $Q$ as it is label of both $x$ and $y$. Label 3 is picked up.\n",
    "* $(c, p) \\rightarrow (d, p)$ with label {1, 4, 5}, {3, 4}  \n",
    " Drop Label 3 in $P$ as it is label of both $x$ and $y$. Label 4 is picked up.\n",
    "* ... ...\n",
    "* Continue the procedure, until $(d, q)$ is achieved, which is completely labeled, and thus is a un-normalized Nash equilibrium."
   ]
  },
  {
   "cell_type": "markdown",
   "metadata": {},
   "source": [
    "### Complementary Pivoting"
   ]
  },
  {
   "cell_type": "markdown",
   "metadata": {},
   "source": [
    "To implementing the dropping and picking up of labels, we introduce slack variables $s_4, s_5, r_1, r_2, r_3$:\n",
    "\n",
    "$$\n",
    "\\begin{matrix}\n",
    "3 x_1 & + 2 x_2 & + 3 x_3 & + s_4 & & = 1\\\\\n",
    "2 x_1 & + 6 x_2 & + x_3 & & + s_5 & = 1 \\\\\n",
    "\\\\\n",
    "r_1 & & & + 3 y_4 & + 3 y_5 & = 1\\\\\n",
    " & r_2 & & + 2 y_4 & + 5 y_5 & = 1 \\\\\n",
    " & & r_3 & & + 6 y_5 & = 1 \n",
    "\\end{matrix}\n",
    "$$\n",
    "\n",
    "$x \\geq \\mathbf{0}, s \\geq \\mathbf{0}, r \\geq \\mathbf{0}, y \\geq \\mathbf{0}.$\n",
    "\n",
    "A solution $(x, s, r, y)$ is completely labeled if and only if  \n",
    "$$\n",
    "x^\\prime r = 0, \\quad y^\\prime s = 0\n",
    "$$\n",
    "\n",
    "Variables in $(x, s, r, y)$ are called *basic variables* if they are positive, and *nonbasic variables* if they are equal to $0$.\n",
    "\n",
    "Therefore, the movement of vertice point is equivalent to *Pivoting*, which is a change of the basis where a nonbasic variable enters and a basic variable leaves the set of basic variables while satisfying the nonnegativity constraint.\n",
    "\n",
    "During the process, what we need to record are the indexes of basic variables and coefficients of linear equations systems. We denote the coefficient matrix by *tableau*, which initially are: \n",
    "\n",
    "$$\n",
    "tableau_1 = \n",
    "\\begin{bmatrix}\n",
    "3 & 2 & 3 & 1 & 0 & 1 \\\\\n",
    "2 & 6 & 1 & 0 & 1 & 1 \\\\\n",
    "\\end{bmatrix}\n",
    "$$\n",
    "\n",
    "and \n",
    "\n",
    "$$\n",
    "tableau_2 =\n",
    "\\begin{bmatrix}\n",
    "1 & 0 & 0 & 3 & 3 & 1 \\\\\n",
    "0 & 1 & 0 & 2 & 5 & 1 \\\\\n",
    "0 & 0 & 1 & 0 & 6 & 1 \n",
    "\\end{bmatrix}\n",
    "$$\n",
    "\n",
    "respectively."
   ]
  },
  {
   "cell_type": "markdown",
   "metadata": {},
   "source": [
    "In detail, the algorithm is as follows:\n",
    "\n",
    "1. Input two tableaus and lists of basic variables. As we start from $(\\mathbf{0}, \\mathbf{0})$, the initial basic variables are $\\{s_4, s_5\\}$ and $\\{r_1, r_2, r_3\\}$.\n",
    "2. Start with pivoting in $P$. Initial pivot index can be arbitrarily chosen. Because nonnegativity constraint, the basic variable to be replaced is decided by minimum ratio test. Then update the tableau and basis of $P$ by dropping and adding basic variables.\n",
    "3. Do pivoting in $Q$. Check whether the newly dropped basic variable has the same index with the first added basic variable by initial pivoting. If it is, then the solution is completely labeled, and a Nash equilibrium is found.\n",
    "4. Repeat 3 and 4, until a Nash equilibirum is found. (Note that we will not be in infinite loop, as the existence of Nash equilibrium is guaranteed.)"
   ]
  },
  {
   "cell_type": "markdown",
   "metadata": {},
   "source": [
    "### Code"
   ]
  },
  {
   "cell_type": "markdown",
   "metadata": {},
   "source": [
    "We simply implement Lemke Howson algorithm using Python, with the same nondegenerate game. (Note that the indexes are changed to be consistent with the 0-based indexing in Python.)\n",
    "\n",
    "First step, we create tableaus and index lists of basic variables. Note that the index list of basic variables is corresponding to the rows of tableau in order."
   ]
  },
  {
   "cell_type": "code",
   "execution_count": 7,
   "metadata": {
    "collapsed": false
   },
   "outputs": [],
   "source": [
    "# Player 0\n",
    "#create tableau of Player0\n",
    "tableau0 = np.empty((n, m+n+1))\n",
    "tableau0[:, :m] = B.T\n",
    "tableau0[:, m:m+n] = np.identity(n)\n",
    "tableau0[:, -1] = 1\n",
    "\n",
    "# the indexes of basic variables of Player0 at (0, 0)\n",
    "basic_vars0 = np.arange(m, m+n)\n",
    "\n",
    "# Player 1\n",
    "#create tableau of Player1\n",
    "tableau1 = np.empty((m, n+m+1))\n",
    "tableau1[:, :m] = np.identity(m)\n",
    "tableau1[:, m:m+n] = A\n",
    "tableau1[:, -1] = 1\n",
    "\n",
    "# the indexes of basic variables of Player1 at (0, 0)\n",
    "basic_vars1 = np.arange(0, m)"
   ]
  },
  {
   "cell_type": "code",
   "execution_count": 8,
   "metadata": {
    "collapsed": false,
    "scrolled": true
   },
   "outputs": [
    {
     "data": {
      "text/plain": [
       "(array([[ 3.,  2.,  3.,  1.,  0.,  1.],\n",
       "        [ 2.,  6.,  1.,  0.,  1.,  1.]]),\n",
       " array([[ 1.,  0.,  0.,  3.,  3.,  1.],\n",
       "        [ 0.,  1.,  0.,  2.,  5.,  1.],\n",
       "        [ 0.,  0.,  1.,  0.,  6.,  1.]]))"
      ]
     },
     "execution_count": 8,
     "metadata": {},
     "output_type": "execute_result"
    }
   ],
   "source": [
    "tableau0, tableau1"
   ]
  },
  {
   "cell_type": "code",
   "execution_count": 9,
   "metadata": {
    "collapsed": false
   },
   "outputs": [
    {
     "data": {
      "text/plain": [
       "(array([3, 4]), array([0, 1, 2]))"
      ]
     },
     "execution_count": 9,
     "metadata": {},
     "output_type": "execute_result"
    }
   ],
   "source": [
    "basic_vars0, basic_vars1"
   ]
  },
  {
   "cell_type": "markdown",
   "metadata": {},
   "source": [
    "Define `min_ratio_test` function for deciding leaving basic variable, when basic variable with pivot index is entering."
   ]
  },
  {
   "cell_type": "code",
   "execution_count": 10,
   "metadata": {
    "collapsed": true
   },
   "outputs": [],
   "source": [
    "def min_ratio_test(tableau, pivot):\n",
    "    \n",
    "    ind_nonpositive = tableau[:, pivot] <= 0\n",
    "    # we suppress the \"divide by zero\" warning message\n",
    "    with np.errstate(divide='ignore', invalid='ignore'):\n",
    "        ratios = tableau[:, -1] / tableau[:, pivot]\n",
    "    # leave out the pivots that have negative ratio\n",
    "    ratios[ind_nonpositive] = np.inf\n",
    "    # find the pivot with minimum ratio, under nonnegativity condition\n",
    "    row_min = ratios.argmin()\n",
    "    \n",
    "    return row_min"
   ]
  },
  {
   "cell_type": "markdown",
   "metadata": {},
   "source": [
    "`Pivoting` function is for updating the tableau after we decide entering and leaving basic variables. "
   ]
  },
  {
   "cell_type": "code",
   "execution_count": 11,
   "metadata": {
    "collapsed": true
   },
   "outputs": [],
   "source": [
    "def pivoting(tableau, pivot, pivot_row):\n",
    "    \"\"\"\n",
    "    Perform a pivoting step.\n",
    "    \n",
    "    Parameters\n",
    "    ----------\n",
    "    tableau : ndarray(float, ndim=2)\n",
    "            The tableau to be updated\n",
    "    \n",
    "    pivot : int64\n",
    "            The index of entering basic variable\n",
    "            \n",
    "    pivot_row: int64\n",
    "            The row indice of tableau chosen by minimum ratio test\n",
    "            the corresponding basic variable is going to be dropped\n",
    "    \n",
    "    Returns\n",
    "    -------\n",
    "    tableau : ndarray(float, ndim=2)\n",
    "            The updated tableau\n",
    "            \n",
    "    \"\"\"\n",
    "    # Row indices except pivot_row\n",
    "    ind = np.ones(tableau.shape[0], dtype=bool)\n",
    "    ind[pivot_row] = False\n",
    "    \n",
    "    # Store the values in the pivot column, except for row_min\n",
    "    # Made 2-dim by np.newaxis\n",
    "    multipliers = tableau[ind, pivot, np.newaxis]\n",
    "    \n",
    "    # Update the tableau\n",
    "    tableau[pivot_row, :] /= tableau[pivot_row, pivot]\n",
    "    tableau[ind, :] -= tableau[pivot_row, :] * multipliers\n",
    "    \n",
    "    return tableau"
   ]
  },
  {
   "cell_type": "code",
   "execution_count": 12,
   "metadata": {
    "collapsed": true
   },
   "outputs": [],
   "source": [
    "def lemke_howson_tbl(tableau0, tableau1, basic_vars0, basic_vars1, init_pivot):\n",
    "    \"\"\"\n",
    "    Wrap the procedure of Lemke Howson algorithm.\n",
    "    \n",
    "    Parameters\n",
    "    ----------\n",
    "    tableau0 : ndarray(float, ndim=2)\n",
    "            The tableau of Player 0\n",
    "    tableau1 : ndarray(float, ndim=2)\n",
    "            The tableau of Player 1\n",
    "    basic_vars0 : int64\n",
    "            The index list of basic variables of tableau0\n",
    "    basic_vars1 : int64\n",
    "            The index list of basic variables of tableau1\n",
    "    init_pivot : int64\n",
    "            The initial pivot index, can be arbitrarily chosen\n",
    "            \n",
    "    Returns\n",
    "    -------\n",
    "    out : list(float, ndim=1)\n",
    "        List of concatenated mixed action Nash equilibrium(un-normalized)\n",
    "        of two Players\n",
    "            \n",
    "    \"\"\"\n",
    "    m, n = tableau1.shape[0], tableau0.shape[0]\n",
    "    tableaux = (tableau0, tableau1)\n",
    "    basic_vars = (basic_vars0, basic_vars1)\n",
    "    init_player = int((basic_vars[0]==init_pivot).any())\n",
    "    players = [init_player, 1 - init_player]\n",
    "\n",
    "    pivot = init_pivot\n",
    "\n",
    "    while True:\n",
    "        for i in players:\n",
    "            # Determine the leaving variable\n",
    "            row_min = min_ratio_test(tableaux[i], pivot)\n",
    "            \n",
    "            # Pivoting step: modify tableau in place\n",
    "            pivoting(tableaux[i], pivot, row_min)\n",
    "            \n",
    "            # Update the basic variables and the pivot\n",
    "            basic_vars[i][row_min], pivot = pivot, basic_vars[i][row_min]\n",
    "            \n",
    "            if pivot == init_pivot:\n",
    "                break\n",
    "        else:\n",
    "            continue\n",
    "        break\n",
    "\n",
    "    out_dtype = np.result_type(*tableaux)\n",
    "    out = np.zeros(m+n, dtype=out_dtype)\n",
    "    for i, (start, num) in enumerate(zip((0, m), (m, n))):\n",
    "        ind = basic_vars[i] < start + num if i == 0 else start <= basic_vars[i]\n",
    "        out[basic_vars[i][ind]] = tableaux[i][ind, -1]\n",
    "        \n",
    "    return out"
   ]
  },
  {
   "cell_type": "code",
   "execution_count": 13,
   "metadata": {
    "collapsed": false
   },
   "outputs": [
    {
     "data": {
      "text/plain": [
       "array([ 0.        ,  0.125     ,  0.25      ,  0.08333333,  0.16666667])"
      ]
     },
     "execution_count": 13,
     "metadata": {},
     "output_type": "execute_result"
    }
   ],
   "source": [
    "init_pivot = 1\n",
    "lemke_howson_tbl(tableau0, tableau1, basic_vars0, basic_vars1, init_pivot)"
   ]
  },
  {
   "cell_type": "markdown",
   "metadata": {},
   "source": [
    "By the un-normalized NE returned by `lemke_howson_tbl`, we can calculate the normalized NE:\n",
    "\n",
    "$$\n",
    "x = (0, \\frac{1}{3}, \\frac{2}{3}) \\quad y = (\\frac{1}{3}, \\frac{2}{3}) \\\\\n",
    "u = \\frac{8}{3}, \\quad v = 4\n",
    "$$"
   ]
  },
  {
   "cell_type": "markdown",
   "metadata": {},
   "source": [
    "We can use the `lemke_howson` routine from `quantecon.py`, which wraps the procedure of creating tableaus and index lists of basic variables, pivoting, and normalizing the found Nash equilibrium. "
   ]
  },
  {
   "cell_type": "code",
   "execution_count": 14,
   "metadata": {
    "collapsed": false
   },
   "outputs": [
    {
     "data": {
      "text/plain": [
       "(array([ 0.        ,  0.33333333,  0.66666667]),\n",
       " array([ 0.33333333,  0.66666667]))"
      ]
     },
     "execution_count": 14,
     "metadata": {},
     "output_type": "execute_result"
    }
   ],
   "source": [
    "from quantecon.game_theory import lemke_howson, NormalFormGame, Player\n",
    "\n",
    "# create normal form game\n",
    "g = NormalFormGame((Player(A), Player(B.T)))\n",
    "# use lemke_howson with initial pivot being 1\n",
    "lemke_howson(g, init_pivot = 1)"
   ]
  },
  {
   "cell_type": "markdown",
   "metadata": {},
   "source": [
    "# Degenerate Games"
   ]
  },
  {
   "cell_type": "markdown",
   "metadata": {},
   "source": [
    "In a degenerate game, the minimum ratio test may have more than one minimizers. In this case, arbitrary tie breaking may lead to cycling, so that the algorithm falls into an infinite loop."
   ]
  },
  {
   "cell_type": "markdown",
   "metadata": {},
   "source": [
    "For example, we change the payoff matrixes for Player 0 and 1 to $C$ and $D$:\n",
    "\n",
    "$$\n",
    "C =\n",
    "\\begin{bmatrix}\n",
    "3 & 3 \\\\\n",
    "2 & 5 \\\\\n",
    "0 & 6\n",
    "\\end{bmatrix},\n",
    "\\quad\n",
    "D =\n",
    "\\begin{bmatrix}\n",
    "3 & 3 \\\\\n",
    "2 & 6 \\\\\n",
    "3 & 1\n",
    "\\end{bmatrix}.\n",
    "$$\n",
    "\n",
    "As `numpy.argmin()` returns the first indice when there is a tie in 1-dimensional array, if we still use `lemke_howson_tbl` which utilize `min_ratio_test`, it may fail to find a Nash equilirbium properly."
   ]
  },
  {
   "cell_type": "markdown",
   "metadata": {},
   "source": [
    "We use lexico-minimum ratio test to replace minimum ratio test in a degenerate game for determining the leaving basic variable.\n",
    "\n",
    "Note that the original system can be written as \n",
    "\n",
    "$$\n",
    "B^\\prime x + I s = \\mathbf{1}\n",
    "$$\n",
    "\n",
    "where $x$ is the mixed action, and $s$ is the slack variable vector.\n",
    "\n",
    "The lexico-minimum ratio test introduce $(\\epsilon, \\epsilon^1, \\cdots, \\epsilon^n)^\\prime$ to the right hand:\n",
    "\n",
    "$$\n",
    "B^\\prime x + I s = \\mathbf{1} + (\\epsilon, \\epsilon^1, \\cdots, \\epsilon^n)^\\prime\n",
    "$$\n",
    "\n",
    "After any number of pivoting steps, the system can be representd by pre-multiplying a inverse of a basic matrix $C$:\n",
    "\n",
    "$$\n",
    "C B^\\prime x + C I s = C \\mathbf{1} + C (\\epsilon, \\epsilon^1, \\cdots, \\epsilon^n)^\\prime\n",
    "$$\n",
    "\n",
    "Write $c_{i0} + c_{i1} ε^1 + ··· + c_{in} ε^n$ for the ith entry of the vector in the right hand, and let $d_i$ be the ith row of the pivoting column.\n",
    "\n",
    "The lexico-minimum ratio test break a tie by comparing the $c_{ik}$ and $c_{jk}$ in order:\n",
    "\n",
    "* Choose the minimizers of $c_{i0} / d_{i}$.\n",
    "* If more than one, among them choose the minimizers of $c_{i1} / d_{i}$.\n",
    "* repeat this until there is only one minimizer\n",
    "\n",
    "Note that when implementing this in code, the matrix $C$ is the same with the coefficient matrix of slack variables, and thus we do not need to extend tableau to record more information."
   ]
  },
  {
   "cell_type": "markdown",
   "metadata": {},
   "source": [
    "## code"
   ]
  },
  {
   "cell_type": "code",
   "execution_count": 15,
   "metadata": {
    "collapsed": true
   },
   "outputs": [],
   "source": [
    "def min_ratio_test_no_tie_breaking(tableau, pivot, test_col, argmins, num_argmins):\n",
    "    \"\"\"\n",
    "    Given the column of coefficient matrix of slack variable, C,\n",
    "    calculate the number of minimizers.\n",
    "    \n",
    "    Parameters\n",
    "    ----------\n",
    "    tableau : ndarray(float, ndim=2)\n",
    "            The tableau contains coefficient matrix C\n",
    "    \n",
    "    pivot : int64\n",
    "            The index of entering basic variable\n",
    "            \n",
    "    test_col : int64\n",
    "            The column indice of coefficient matrix which is going\n",
    "            to be used as numerator of lexico-minimum ratio\n",
    "            \n",
    "    argmins : list(int64, ndim=1)\n",
    "            The list stores the indices of minimizers\n",
    "            \n",
    "    num_argmins : int64\n",
    "            The length of \"argmins\" list\n",
    "    \n",
    "    Returns\n",
    "    -------\n",
    "    idx : int64\n",
    "            The number of minizers\n",
    "            \n",
    "    \"\"\"\n",
    "    idx = 0\n",
    "    i = argmins[idx]\n",
    "    if tableau[i, pivot] > 0:\n",
    "        min_ratio = tableau[i, test_col] / tableau[i, pivot]\n",
    "    else:\n",
    "        min_ratio = np.inf\n",
    "    for k in range(1, num_argmins):\n",
    "        i = argmins[k]\n",
    "        if tableau[i, pivot] <= 0:\n",
    "            continue\n",
    "        ratio = tableau[i, test_col] / tableau[i, pivot]\n",
    "        if ratio > min_ratio:\n",
    "            continue\n",
    "        elif ratio < min_ratio:\n",
    "            min_ratio = ratio\n",
    "            idx = 0\n",
    "        elif ratio == min_ratio:\n",
    "            idx += 1\n",
    "        argmins[idx] = k\n",
    "        \n",
    "    return idx + 1"
   ]
  },
  {
   "cell_type": "code",
   "execution_count": 16,
   "metadata": {
    "collapsed": true
   },
   "outputs": [],
   "source": [
    "def lex_min_ratio_test(tableau, pivot, slack_start):\n",
    "    \"\"\"\n",
    "    Implementing lexico-minimum ratio test to find the \n",
    "    only leaving basic variable.\n",
    "    \n",
    "    Parameters\n",
    "    ----------\n",
    "    tableau : ndarray(float, ndim=2)\n",
    "            The tableau contains coefficient matrix C\n",
    "    \n",
    "    pivot : int64\n",
    "            The index of entering basic variable\n",
    "            \n",
    "    slack_start : int64\n",
    "            The column indice that coefficient matrix of \n",
    "            slack variable starts\n",
    "    \n",
    "    Returns\n",
    "    -------\n",
    "    agrmins[0] : int64\n",
    "            The row indice of leaving basic variable\n",
    "            \n",
    "    \"\"\"\n",
    "    num_rows = tableau.shape[0]\n",
    "    argmins = np.arange(num_rows)\n",
    "    num_argmins = num_rows\n",
    "    \n",
    "    num_argmins = min_ratio_test_no_tie_breaking(tableau, pivot, -1, argmins, num_argmins)\n",
    "    if num_argmins == 1:\n",
    "        return argmins[0]\n",
    "    \n",
    "    for j in range(slack_start, slack_start+num_rows):\n",
    "        if j == pivot:\n",
    "            continue\n",
    "        num_argmins = min_ratio_test_no_tie_breaking(tableau, pivot, j, argmins, num_argmins)\n",
    "        if num_argmins == 1:\n",
    "            break\n",
    "            \n",
    "    return argmins[0]"
   ]
  },
  {
   "cell_type": "code",
   "execution_count": 17,
   "metadata": {
    "collapsed": true
   },
   "outputs": [],
   "source": [
    "def lemke_howson_tbl_lex_min(tableau0, tableau1, basic_vars0, basic_vars1, init_pivot):\n",
    "    \"\"\"\n",
    "    The same with `lemke_howson_tbl` other than that \n",
    "    we use lexico-minimum ratio test to break a tie.\n",
    "    \n",
    "    \"\"\"\n",
    "    m, n = tableau1.shape[0], tableau0.shape[0]\n",
    "    tableaux = (tableau0, tableau1)\n",
    "    basic_vars = (basic_vars0, basic_vars1)\n",
    "    init_player = int((basic_vars[0]==init_pivot).any())\n",
    "    players = [init_player, 1 - init_player]\n",
    "\n",
    "    pivot = init_pivot\n",
    "    slack_starts = (m, 0)\n",
    "\n",
    "    while True:\n",
    "        for i in players:\n",
    "            # Determine the leaving variable\n",
    "            row_min = lex_min_ratio_test(tableaux[i], pivot, slack_starts[i])\n",
    "            \n",
    "            # Pivoting step: modify tableau in place\n",
    "            pivoting(tableaux[i], pivot, row_min)\n",
    "            \n",
    "            # Update the basic variables and the pivot\n",
    "            basic_vars[i][row_min], pivot = pivot, basic_vars[i][row_min]\n",
    "            \n",
    "            if pivot == init_pivot:\n",
    "                break\n",
    "        else:\n",
    "            continue\n",
    "        break\n",
    "\n",
    "    out = np.zeros(m+n)\n",
    "    for i, (start, num) in enumerate(zip((0, m), (m, n))):\n",
    "        ind = basic_vars[i] < start + num if i == 0 else start <= basic_vars[i]\n",
    "        out[basic_vars[i][ind]] = tableaux[i][ind, -1]\n",
    "        \n",
    "    return out"
   ]
  },
  {
   "cell_type": "code",
   "execution_count": 18,
   "metadata": {
    "collapsed": true
   },
   "outputs": [],
   "source": [
    "# payoff matrixes of a degenerate game\n",
    "C = np.array([[3, 3],\n",
    "              [2, 5],\n",
    "              [0 ,6]])\n",
    "D = np.array([[3, 3],\n",
    "              [2, 6],\n",
    "              [3 ,1]])\n",
    "\n",
    "# Player 0\n",
    "#create tableau of Player0\n",
    "tableau0 = np.empty((n, m+n+1))\n",
    "tableau0[:, :m] = D.T\n",
    "tableau0[:, m:m+n] = np.identity(n)\n",
    "tableau0[:, -1] = 1\n",
    "\n",
    "# the indexes of basic variables of Player0 at (0, 0)\n",
    "basic_vars0 = np.arange(m, m+n)\n",
    "\n",
    "# Player 1\n",
    "#create tableau of Player1\n",
    "tableau1 = np.empty((m, n+m+1))\n",
    "tableau1[:, :m] = np.identity(m)\n",
    "tableau1[:, m:m+n] = C\n",
    "tableau1[:, -1] = 1\n",
    "\n",
    "# the indexes of basic variables of Player1 at (0, 0)\n",
    "basic_vars1 = np.arange(0, m)"
   ]
  },
  {
   "cell_type": "code",
   "execution_count": 19,
   "metadata": {
    "collapsed": false
   },
   "outputs": [
    {
     "data": {
      "text/plain": [
       "array([ 0.        ,  0.125     ,  0.25      ,  0.08333333,  0.16666667])"
      ]
     },
     "execution_count": 19,
     "metadata": {},
     "output_type": "execute_result"
    }
   ],
   "source": [
    "lemke_howson_tbl_lex_min(tableau0, tableau1, basic_vars0, basic_vars1, init_pivot=1)"
   ]
  },
  {
   "cell_type": "markdown",
   "metadata": {},
   "source": [
    "Note that the `lemke_howson` routine in `quantecon.py` uses lexico-minimum ratio test, so there is no need to concern about the nondegenerate game when using it."
   ]
  },
  {
   "cell_type": "code",
   "execution_count": 20,
   "metadata": {
    "collapsed": false
   },
   "outputs": [
    {
     "data": {
      "text/plain": [
       "(array([ 0.        ,  0.33333333,  0.66666667]),\n",
       " array([ 0.33333333,  0.66666667]))"
      ]
     },
     "execution_count": 20,
     "metadata": {},
     "output_type": "execute_result"
    }
   ],
   "source": [
    "g = NormalFormGame((Player(C), Player(D.T)))\n",
    "lemke_howson(g, init_pivot = 1)"
   ]
  },
  {
   "cell_type": "markdown",
   "metadata": {},
   "source": [
    "# Introduce how to use the `lemke_howson` routine in QuantEcon.py, and use Codenotti, De Rossi, and Pagan's simulations as an example."
   ]
  },
  {
   "cell_type": "code",
   "execution_count": null,
   "metadata": {
    "collapsed": true
   },
   "outputs": [],
   "source": []
  }
 ],
 "metadata": {
  "anaconda-cloud": {},
  "kernelspec": {
   "display_name": "Python [Root]",
   "language": "python",
   "name": "Python [Root]"
  },
  "language_info": {
   "codemirror_mode": {
    "name": "ipython",
    "version": 3
   },
   "file_extension": ".py",
   "mimetype": "text/x-python",
   "name": "python",
   "nbconvert_exporter": "python",
   "pygments_lexer": "ipython3",
   "version": "3.5.2"
  }
 },
 "nbformat": 4,
 "nbformat_minor": 0
}
