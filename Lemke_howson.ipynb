{
 "cells": [
  {
   "cell_type": "markdown",
   "metadata": {},
   "source": [
    "# Lemke-Howson: An Algorithm to Find Nash Equilibrium"
   ]
  },
  {
   "cell_type": "markdown",
   "metadata": {},
   "source": [
    "This notebook introduces the Lemke-Howson algorithm for finding a Nash equilibrium of a two-player normal form game. "
   ]
  },
  {
   "cell_type": "code",
   "execution_count": 1,
   "metadata": {
    "collapsed": true
   },
   "outputs": [],
   "source": [
    "import numpy as np\n",
    "import matplotlib.pyplot as plt\n",
    "import quantecon.game_theory as gt\n",
    "%matplotlib inline"
   ]
  },
  {
   "cell_type": "markdown",
   "metadata": {},
   "source": [
    "## Two-Player Games in Normal Form"
   ]
  },
  {
   "cell_type": "markdown",
   "metadata": {},
   "source": [
    "We are going to find Nash equilibria (pure or mixed action) of a Two-Player Game $g = (I, (A_i)_{i \\in I}, (u_i)_{i \\in I})$, where \n",
    "\n",
    "* $I = \\{0, 1\\}$: the set of players.\n",
    "* $M = \\{0, ..., m-1\\}, N = \\{m, ..., m+n-1\\}$: two pure action spaces.\n",
    "* $\\Delta^L = \\{x \\in \\mathbb{R}^L_+ \\mid \\sum_{\\ell \\in L} x_{\\ell} = 1\\}, L=M, N$: the mixed action spaces.\n",
    "* $A \\in \\mathbb{R}^{M \\times N}, B \\in \\mathbb{R}^{N \\times M}$: the payoff matrices for player 0 and 1 respectively.\n",
    "* $x^{\\prime}Ay$ and $y^{\\prime}Bx$: the expected payoffs for player 0 and 1 respectively with $x \\in \\Delta^M$ and $y \\in \\Delta^N$."
   ]
  },
  {
   "cell_type": "markdown",
   "metadata": {},
   "source": [
    "### Nash Equilibrium"
   ]
  },
  {
   "cell_type": "markdown",
   "metadata": {},
   "source": [
    "For $x \\in \\Delta^M$ and $y \\in \\Delta^N$, they constitute a Nash equilibrium if\n",
    "\n",
    "$$\n",
    "x^{\\prime}Ay \\geq z ^\\prime Ay \\quad \\forall z \\in \\Delta^M,\n",
    "$$\n",
    "\n",
    "and\n",
    "\n",
    "$$\n",
    "y^{\\prime}Bx \\geq z ^\\prime Bx \\quad \\forall z \\in \\Delta^N.\n",
    "$$\n",
    "\n",
    "We define\n",
    "\n",
    "$$\n",
    "\\bar{x} = \\underset{j \\in N}{\\arg \\max}(B x)_j, \\quad \n",
    "x^\\circ = \\{i \\in M \\mid x_i = 0\\} \\\\\n",
    "\\bar{y} = \\underset{i \\in M}{\\arg \\max}(A y)_i, \\quad\n",
    "y^\\circ = \\{j \\in N \\mid y_j = 0\\} \\\\\n",
    "\\text{supp}(x) = \\{i \\mid x_i > 0\\}, \\quad \n",
    "\\text{supp}(y) = \\{j \\mid y_j > 0\\}\n",
    "$$\n",
    "\n",
    "According to von Stengel, B. (2007), we can establish whether $(x, y) \\in \\Delta^M \\times \\Delta^N$ is a Nash equilibrium by checking:\n",
    "\n",
    "* $\\text{supp}(x) \\subset \\bar{y}, \\text{supp}(y) \\subset \\bar{x}$, or\n",
    "* $\\bar{y} \\cup x^\\circ = M, \\bar{x} \\cup y^\\circ = N$, which is equivalently $(\\bar{x} \\cup x^\\circ) \\cup (\\bar{y} \\cup y^\\circ) = M \\cup N$.\n",
    "\n",
    "These two conditions are equivalent, and therefore, checking only one of them is enough for finding a Nash equilibrium."
   ]
  },
  {
   "cell_type": "markdown",
   "metadata": {},
   "source": [
    "These two conditions allow us to use some algorithms to compute a Nash equilibrium for any well-defined two-player normal form game. However, with degenerate games which will be defined formally below, we have to deal with some difficulties as we will see later. Therefore, we start by considering nondegenerate games, which are simpler to address."
   ]
  },
  {
   "cell_type": "markdown",
   "metadata": {},
   "source": [
    "# Nondegenerate Games"
   ]
  },
  {
   "cell_type": "markdown",
   "metadata": {},
   "source": [
    "** Definition: ** A two-player game is nondegenerate if for any $x \\in \\Delta^M$ and any $y \\in \\Delta^N$, we have\n",
    "\n",
    "$$\n",
    "\\left| \\bar{x} \\right| \\leq \\left| \\text{supp}(x) \\right|, \\quad\n",
    "\\left| \\bar{y} \\right| \\leq \\left| \\text{supp}(y) \\right|,\n",
    "$$\n",
    "\n",
    "or equivalently,\n",
    "\n",
    "$$\n",
    "\\left| x^\\circ \\right| + \\left| \\bar{x} \\right| \\leq m, \\quad\n",
    "\\left| y^\\circ \\right| + \\left| \\bar{y} \\right| \\leq n,\n",
    "$$\n",
    "\n",
    "where $\\left| x \\right|$ is the cardinality of set $x$. Otherwise, the game is called as degenerate."
   ]
  },
  {
   "cell_type": "markdown",
   "metadata": {},
   "source": [
    "Combined with the condition that a Nash equilibrium should satisfy described above, we know that if $(x, y)$ is a Nash equilibrium of a nondegenerate game, then\n",
    "\n",
    "$$\n",
    "\\left| \\text{supp}(x) \\right| = \\left| \\text{supp}(y) \\right|.\n",
    "$$"
   ]
  },
  {
   "cell_type": "markdown",
   "metadata": {},
   "source": [
    "Using this result, we can exclude a large number of action support pairs that cannot be a Nash Equilibrium."
   ]
  },
  {
   "cell_type": "markdown",
   "metadata": {},
   "source": [
    "## Support Enumeration"
   ]
  },
  {
   "cell_type": "markdown",
   "metadata": {},
   "source": [
    "Before we introduce the Lemke-Howson algorithm, we first describe a method to find all Nash equilibria by iterating over all mixed actions with equal-sized support pairs, and checking whether they satisfy the necessary and sufficient conditions mentioned above to be a Nash Equilibrium. This technique is called *Support Enumeration*."
   ]
  },
  {
   "cell_type": "markdown",
   "metadata": {},
   "source": [
    "For each $k=1, ..., \\text{min}\\{m, n\\}$ and each pair $(I, J)$, $I \\subset M$ and $J \\subset N$, such that $\\left| I \\right| = \\left| J \\right| = k$, the mixed action $(x, y)$ is a Nash equilibrium if it solves the systems of linear equations\n",
    "\n",
    "$$\n",
    "\\sum_{j \\in J} a_{ij} y_j = u \\text{ for } i \\in I, \\quad\n",
    "\\sum_{j \\in J} y_j = 1, \\\\\n",
    "\\sum_{i \\in I} b_{ji} x_i = v \\text{ for } j \\in J, \\quad\n",
    "\\sum_{i \\in I} x_i = 1.\n",
    "$$\n",
    "\n",
    "And also satisfies that\n",
    "* $x_i > 0$ for all $i \\in I$ and $y_j >0$ for all $j \\in J$,\n",
    "* $u \\geq \\sum_{j \\in J} a_{ij} y_j$ for all $i \\not \\in I$ and $v \\geq \\sum_{i \\in I} b_{ij} x_i$ for all $j \\not \\in J$."
   ]
  },
  {
   "cell_type": "markdown",
   "metadata": {},
   "source": [
    "The systems of equations can be written in matrix form as \n",
    "\n",
    "$$\n",
    "C \\begin{pmatrix} y_J \\\\ u \\end{pmatrix} = e,\n",
    "$$\n",
    "and\n",
    "$$\n",
    "D \\begin{pmatrix} x_I \\\\ v \\end{pmatrix} = e,\n",
    "$$\n",
    "with\n",
    "$$\n",
    "C =\n",
    " \\begin{pmatrix}\n",
    " A_{IJ} & -\\mathbf{1} \\\\\n",
    " \\mathbf{1}' & 0\n",
    " \\end{pmatrix}, \\quad\n",
    "D =\n",
    " \\begin{pmatrix}\n",
    " B_{JI} & -\\mathbf{1} \\\\\n",
    " \\mathbf{1}' & 0\n",
    " \\end{pmatrix}, \\quad\n",
    "e = \\begin{pmatrix}\\mathbf{0} \\\\ 1\\end{pmatrix},\n",
    "$$\n",
    "where\n",
    "$A_{IJ}$ is the submatrix of $A$ given by rows $I$ and columns $J$,\n",
    "$B_{JI}$ is the submatrix of $B$ given by rows $J$ and columns $I$, and\n",
    "$\\mathbf{0}$ and $\\mathbf{1}$ are the $k$-dimensional vectors of zeros and ones, respectively."
   ]
  },
  {
   "cell_type": "markdown",
   "metadata": {},
   "source": [
    "Using the algorithm described above, given any well-defined nondegenerate two-player game and a support pair $I, J$, we know whether there is a Nash equilirium corresponding to this support pair, and can calculate the NE $(x, y)$ if there is one."
   ]
  },
  {
   "cell_type": "markdown",
   "metadata": {},
   "source": [
    "### Implementation"
   ]
  },
  {
   "cell_type": "markdown",
   "metadata": {},
   "source": [
    "We apply the algorithm by writing a function `indiff_mixed_action` which solves the system of linear equations for one player, which is the half of the whole system to find a Nash equilibiurm. In other word, it checks whether there exists a mixed action of opponent with support given, against which the actions in the player's own support are all best responses.\n",
    "\n",
    "* The arguments are\n",
    "  * numpy array `payoff_matrix`;\n",
    "  * list (or numpy array) `own_supp` for the support of the player in consideration;\n",
    "  * list (or numpy array) `opp_supp` for the support of the opponent player;\n",
    "  * numpy array `out` that stores the candidate mixed action.\n",
    "* If there is a mixed action of the opponent with support `opp_supp`\n",
    "  against which the actions in `own_supp` are best responses,\n",
    "  then return `True`; otherwise return `False`.\n",
    "  In the former case, the mixed action is stored in `out`.\n",
    "* Array `out` must be of length equal to the number of the opponent's actions."
   ]
  },
  {
   "cell_type": "code",
   "execution_count": 2,
   "metadata": {
    "collapsed": true
   },
   "outputs": [],
   "source": [
    "def indiff_mixed_action(payoff_matrix, own_supp, opp_supp, out):\n",
    "    # (number of own actions, number of opponent's actions)\n",
    "    nums_actions = payoff_matrix.shape\n",
    "    \n",
    "    # Support size\n",
    "    k = len(own_supp)\n",
    "    \n",
    "    # Matrix in the left hand side of the linear equation\n",
    "    a = np.empty((k+1, k+1))\n",
    "    a[:-1, :-1] = payoff_matrix[own_supp, :][:, opp_supp]\n",
    "    a[-1, :-1] = 1\n",
    "    a[:-1, -1] = -1\n",
    "    a[-1, -1] = 0\n",
    "    \n",
    "    # Vector in the right hand side of the linear equation\n",
    "    b = np.zeros(k+1)\n",
    "    b[-1] = 1\n",
    "    \n",
    "    try:\n",
    "        sol = np.linalg.solve(a, b)\n",
    "    except np.linalg.LinAlgError:\n",
    "        return False\n",
    "    \n",
    "    # Return False immediately if any of the \"probabilities\" is not positive\n",
    "    if (sol[:-1] <= 0).any():\n",
    "        return False\n",
    "    \n",
    "    own_supp_c = np.setdiff1d(np.arange(nums_actions[0]), own_supp)\n",
    "    # Return False immediately if the solution mixed action is not optimal\n",
    "    if (sol[-1] < payoff_matrix[own_supp_c, :][:, opp_supp] @ sol[:-1]).any():\n",
    "        return False\n",
    "    \n",
    "    out.fill(0)\n",
    "    out[opp_supp] = sol[:-1]\n",
    "    return True"
   ]
  },
  {
   "cell_type": "markdown",
   "metadata": {},
   "source": [
    "Given support $I$ and $J$, if for each player, the `indiff_mixed_action` returns `True`, then there is a Nash equilirium with support $I$ and $J$, and the mixed actions are just as calculated."
   ]
  },
  {
   "cell_type": "markdown",
   "metadata": {},
   "source": [
    "Consider the example from von Stengel (2007):\n",
    "\n",
    "$$\n",
    "A =\n",
    "\\begin{bmatrix}\n",
    "3 & 3 \\\\\n",
    "2 & 5 \\\\\n",
    "0 & 6\n",
    "\\end{bmatrix},\n",
    "\\quad\n",
    "B =\n",
    "\\begin{bmatrix}\n",
    "3 & 2 & 3 \\\\\n",
    "2 & 6 & 1 \\\\\n",
    "\\end{bmatrix}.\n",
    "$$"
   ]
  },
  {
   "cell_type": "markdown",
   "metadata": {},
   "source": [
    "The action spaces of players 0 and 1 are replaced with Python indices:\n",
    "$$\n",
    "M = \\{0, 1, 2\\}, \\quad\n",
    "N = \\{0, 1\\}.\n",
    "$$"
   ]
  },
  {
   "cell_type": "markdown",
   "metadata": {},
   "source": [
    "We can attempt to use `indiff_mixed_action` to find a Nash equilibrium with $I = \\{0, 1\\}$ and $J = \\{0, 1\\}$."
   ]
  },
  {
   "cell_type": "code",
   "execution_count": 3,
   "metadata": {
    "collapsed": false
   },
   "outputs": [
    {
     "data": {
      "text/plain": [
       "True"
      ]
     },
     "execution_count": 3,
     "metadata": {},
     "output_type": "execute_result"
    }
   ],
   "source": [
    "# Define a two-player normal form game\n",
    "A = np.array([[3, 3],\n",
    "              [2, 5],\n",
    "              [0 ,6]])\n",
    "B = np.array([[3, 2, 3],\n",
    "              [2, 6, 1]])\n",
    "m, n = A.shape  # Numbers of actions of players 0 and 1, respectively\n",
    "M = np.arange(m)\n",
    "N = np.arange(n)\n",
    "\n",
    "# Set the equal-sized support pair I, J\n",
    "I = [0, 1]\n",
    "J = [0, 1]\n",
    "\n",
    "out = np.empty(n)\n",
    "indiff_mixed_action(A, I, J, out)"
   ]
  },
  {
   "cell_type": "code",
   "execution_count": 4,
   "metadata": {
    "collapsed": false
   },
   "outputs": [
    {
     "data": {
      "text/plain": [
       "array([ 0.66666667,  0.33333333])"
      ]
     },
     "execution_count": 4,
     "metadata": {},
     "output_type": "execute_result"
    }
   ],
   "source": [
    "out"
   ]
  },
  {
   "cell_type": "markdown",
   "metadata": {},
   "source": [
    "To find all Nash equilibria of a normal form game, we just iterate all possible combinations of $I$ and $J$, and then apply `indiff_mixed_action` to each players with each support pair. If `indiff_mixed_action` returns `True` for both players, we store mixed actions in list `NEs`."
   ]
  },
  {
   "cell_type": "markdown",
   "metadata": {},
   "source": [
    "This iteration procedure is wrapped by a function `gt.support_enumeration` which takes `NormalFormGame` as argument."
   ]
  },
  {
   "cell_type": "code",
   "execution_count": 5,
   "metadata": {
    "collapsed": false
   },
   "outputs": [
    {
     "data": {
      "text/plain": [
       "[(array([ 1.,  0.,  0.]), array([ 1.,  0.])),\n",
       " (array([ 0.8,  0.2,  0. ]), array([ 0.66666667,  0.33333333])),\n",
       " (array([ 0.        ,  0.33333333,  0.66666667]),\n",
       "  array([ 0.33333333,  0.66666667]))]"
      ]
     },
     "execution_count": 5,
     "metadata": {},
     "output_type": "execute_result"
    }
   ],
   "source": [
    "g = gt.NormalFormGame((gt.Player(A), gt.Player(B)))\n",
    "gt.support_enumeration(g)"
   ]
  },
  {
   "cell_type": "markdown",
   "metadata": {},
   "source": [
    "There exist 3 Nash equilibria for this example: \n",
    "$$\n",
    "\\left(\\left(1,0,0\\right),\\left(1,0\\right)\\right), \\quad \\left(\\left(\\frac{4}{5}, \\frac{1}{5}, 0\\right), \\left(\\frac{2}{3}, \\frac{1}{3}\\right)\\right), \\quad \\left(\\left(0,\\frac{1}{3}, \\frac{2}{3}\\right), \\left(\\frac{1}{3}, \\frac{2}{3}\\right)\\right).\n",
    "$$"
   ]
  },
  {
   "cell_type": "markdown",
   "metadata": {},
   "source": [
    "Support Enumeration has one drawback, that the number of equal-sized support pairs increases quickly as the game gets larger:\n",
    "\n",
    "If $m = n$, the number of equal-sized support pairs is \n",
    "\n",
    "$$\n",
    "\\sum^n_{k=1} \\binom{n} {k} ^2 = \\binom {2n} {n} - 1 \\approx \\frac{4^n}{\\sqrt{\\pi n}},\n",
    "$$\n",
    "\n",
    "which increase exponentially with the number of actions. This motivates the usage of the Lemke-Howson algorithm, which as we will see, is much less computationally intensive."
   ]
  },
  {
   "cell_type": "markdown",
   "metadata": {
    "collapsed": true
   },
   "source": [
    "## Lemke-Howson"
   ]
  },
  {
   "cell_type": "markdown",
   "metadata": {},
   "source": [
    "Using the Lemke-Howson algorithm allows us to alleviate the computational complexity of the support enumeration algorithm. To understand how this algorithm works, we first need to introduce a representation of Nash equilibria which uses Polyhedra and Labels."
   ]
  },
  {
   "cell_type": "markdown",
   "metadata": {},
   "source": [
    "### Polyhedra and Labels"
   ]
  },
  {
   "cell_type": "markdown",
   "metadata": {},
   "source": [
    "Given a bimatrix game with payoff matrixs being $A$ and $B$ for player 0, 1 respectively, the best response can be represented as a polyhedron:\n",
    "\n",
    "$$\n",
    "\\bar{P} = \\{(x, v) \\in \\mathbb{R}^M \\times \\mathbb{R} \\mid x\\geq \\mathbf{0}, B x \\leq v \\mathbf{1}, \\mathbf{1}^{\\prime}x = 1\\}, \\\\\n",
    "\\bar{Q} = \\{(y, u) \\in \\mathbb{R}^N \\times \\mathbb{R} \\mid A y \\leq u \\mathbf{1}, y\\geq \\mathbf{0},  \\mathbf{1}^{\\prime}y = 1\\},\n",
    "$$\n",
    "\n",
    "where $x \\in \\Delta^M$, $y \\in \\Delta^N$. $v$ is the upper bound of expected payoffs for player 1 choosing pure actions when player 0's mixed action is $x$. Similarly, $u$ is the upper bound of expected payoffs for player 0.  \n",
    "\n",
    "Define the *label* of a point in best response polyhedron as:  \n",
    "\n",
    "* $(x, v) \\in \\bar{P}$ has *label* $k \\in M \\cup N$ if \n",
    " * for $k = j \\in N$, $(B x)_{j} = v$, so that $j \\in \\bar{x}$, or,\n",
    " * for $k = i \\in M$, $x_i = 0$, so that $i \\in x^{\\circ}$.\n",
    " \n",
    "* $(y, u) \\in \\bar{Q}$ has *label* $k \\in M \\cup N$ if \n",
    " * for $k = i \\in M$, $(A y)_{i} = u$, so that $i \\in \\bar{y}$, or,\n",
    " * for $k = j \\in N$, $y_j = 0$, so that $j \\in y^{\\circ}$.\n",
    " \n",
    "Without loss of generality, we assume that $A$ and $B$ are nonnegative and have no zero column. Dividing by $v$ and $u$, we can convert the best response polyhedra $\\bar{P}$ and $\\bar{Q}$ into the best response polytopes, that correspond to player 0 and player 1 respectively:\n",
    "\n",
    "$$\n",
    "P = \\{x \\in \\mathbb{R}^M \\mid x \\geq \\mathbf{0}, B x \\leq 1 \\}, \\\\\n",
    "Q = \\{y \\in \\mathbb{R}^N \\mid A y \\leq 1, y\\geq \\mathbf{0} \\}.\n",
    "$$"
   ]
  },
  {
   "cell_type": "markdown",
   "metadata": {},
   "source": [
    "Using the same example as in the Support Enumeration case, where \n",
    "\n",
    "$$\n",
    "M = \\{0, 1, 2\\}, \\quad\n",
    "N = \\{3, 4\\}, \\\\\n",
    "A =\n",
    "\\begin{bmatrix}\n",
    "3 & 3 \\\\\n",
    "2 & 5 \\\\\n",
    "0 & 6\n",
    "\\end{bmatrix},\n",
    "\\quad\n",
    "B =\n",
    "\\begin{bmatrix}\n",
    "3 & 2 & 3 \\\\\n",
    "2 & 6 & 1 \\\\\n",
    "\\end{bmatrix}.\n",
    "$$\n",
    "\n",
    "We can draw the best response polytopes as follows."
   ]
  },
  {
   "cell_type": "code",
   "execution_count": 6,
   "metadata": {
    "collapsed": false,
    "scrolled": false
   },
   "outputs": [
    {
     "data": {
      "text/plain": [
       "<matplotlib.text.Text at 0x11a421748>"
      ]
     },
     "execution_count": 6,
     "metadata": {},
     "output_type": "execute_result"
    },
    {
     "data": {
      "image/png": "[encoded data removed]",
      "text/plain": [
       "<matplotlib.figure.Figure at 0x119c89d68>"
      ]
     },
     "metadata": {},
     "output_type": "display_data"
    }
   ],
   "source": [
    "# Draw the best response polytope Q\n",
    "from scipy.spatial import HalfspaceIntersection, ConvexHull\n",
    "from itertools import combinations\n",
    "\n",
    "halfspaces = np.empty((5, 3))\n",
    "halfspaces[:3, :-1] = A\n",
    "halfspaces[3:, :-1] = -np.eye(2)\n",
    "halfspaces[:3, -1] = -1\n",
    "halfspaces[3:, -1] = 0\n",
    "feasible_point = np.array([0.05, 0.05])\n",
    "hs = HalfspaceIntersection(halfspaces, feasible_point)\n",
    "\n",
    "vertices_ind = np.empty((len(halfspaces), len(hs.intersections)), dtype = bool)\n",
    "for i, constraint in enumerate(halfspaces):\n",
    "    vertices_ind[i, :] = np.isclose(np.dot(np.hstack((hs.intersections,\n",
    "                                                      np.ones((len(hs.intersections), 1)))),\n",
    "                                           constraint), \n",
    "                                    0)\n",
    "\n",
    "fig = plt.figure()\n",
    "ax = fig.add_subplot('111')\n",
    "xlim, ylim = (-0.05, 0.40), (-0.05, 0.20)\n",
    "ax.set_xlim(xlim)\n",
    "ax.set_ylim(ylim)\n",
    "\n",
    "for ind in vertices_ind:\n",
    "    vertices = hs.intersections[ind]\n",
    "    ax.plot(vertices[:, 0], vertices[:, 1], c = 'b')\n",
    "    \n",
    "for i in range(len(halfspaces)):\n",
    "    label_xyz = np.average(hs.intersections[vertices_ind[i]], axis=0)\n",
    "    ax.text(*label_xyz, str(i))\n",
    "\n",
    "pts_labels = ['0', 's', 'p', 'r', 'q']\n",
    "for pt, l in zip(hs.intersections, pts_labels):\n",
    "    ax.scatter(*pt, label=l)\n",
    "plt.legend(bbox_to_anchor=(1.2, 1.0))\n",
    "plt.title('Best response polytope Q')"
   ]
  },
  {
   "cell_type": "code",
   "execution_count": 7,
   "metadata": {
    "collapsed": false
   },
   "outputs": [
    {
     "data": {
      "text/plain": [
       "<matplotlib.text.Text at 0x11b4852b0>"
      ]
     },
     "execution_count": 7,
     "metadata": {},
     "output_type": "execute_result"
    },
    {
     "data": {
      "image/png": "[encoded data removed]",
      "text/plain": [
       "<matplotlib.figure.Figure at 0x118d340f0>"
      ]
     },
     "metadata": {},
     "output_type": "display_data"
    }
   ],
   "source": [
    "# Draw the best response polytope P\n",
    "from mpl_toolkits.mplot3d import Axes3D\n",
    "\n",
    "halfspaces = np.empty((5, 4))\n",
    "halfspaces[:3, :-1] = -np.eye(3)\n",
    "halfspaces[3:, :-1] = B\n",
    "halfspaces[3:, -1] = -1\n",
    "halfspaces[:3, -1] = 0\n",
    "feasible_point = np.array([0.05, 0.05, 0.05])\n",
    "hs = HalfspaceIntersection(halfspaces, feasible_point)\n",
    "\n",
    "vertices_ind = np.empty((len(halfspaces), len(hs.intersections)), dtype = bool)\n",
    "for i, constraint in enumerate(halfspaces):\n",
    "    vertices_ind[i, :] = np.isclose(np.dot(np.hstack((hs.intersections,\n",
    "                                                      np.ones((len(hs.intersections), 1)))),\n",
    "                                           constraint), \n",
    "                                    0)\n",
    "\n",
    "fig = plt.figure()\n",
    "ax2 = fig.add_subplot(111, projection='3d')\n",
    "\n",
    "for i, j in combinations(range(vertices_ind.shape[0]), 2):\n",
    "    vertices = hs.intersections[np.logical_and(vertices_ind[i, :], vertices_ind[j, :])]\n",
    "    ax2.plot(vertices[:, 0], vertices[:, 1], vertices[:, 2], c = 'b')\n",
    "    \n",
    "for i in range(len(halfspaces)):\n",
    "    label_xyz = np.average(hs.intersections[vertices_ind[i]], axis=0)\n",
    "    ax2.text(*label_xyz, str(i))\n",
    "\n",
    "pts_labels = ['e', '0', 'a', 'd', 'c', 'b']\n",
    "for pt, l in zip(hs.intersections, pts_labels):\n",
    "    ax2.scatter(*pt, label=l)\n",
    "\n",
    "ax2.view_init(elev=30, azim=25)\n",
    "plt.legend(bbox_to_anchor=(1.1, 1.0))\n",
    "plt.title('Best response polytope P')"
   ]
  },
  {
   "cell_type": "markdown",
   "metadata": {},
   "source": [
    "$((x, v), (y, u)) \\in \\bar{P} \\times \\bar{Q}$ is *completely labeled* if every $k \\in M \\cup N$ appears as a label of either $(x, v)$ or $(y, u)$.\n",
    "\n",
    "In the context of best response polyhedra and labels, we can define Nash equilibrium as:  \n",
    "* $(x, y) \\in \\Delta^{M} \\times \\Delta^{N}$ is a Nash equilibrium if and only if $((x, v), (y, u))$ with $u = \\text{max}_i (A y)_i$ and $v = \\text{max}_j (B x)_j$ is completely labeled.\n",
    "\n",
    "The transformed best response polytope is a special case where $u = v = 1$, and we have\n",
    "\n",
    "* $(x, y) \\in P \\times Q$, $(x, y) \\neq (\\mathbf{0}, \\mathbf{0})$, is an (\"un-normalized\") Nash equilibirum if and only if $(x, y)$ is completely labeled.\n",
    "\n",
    "Note that $(x, y)$ is called as \"un-normalized\" because the elements in $x(y)$ does not sum up to $1$. We can normalize it to be a Nash equilibrium by\n",
    "\n",
    "$$\n",
    "x^* = \\frac{1}{\\mathbf{1}_M'x}x,\\quad v = \\frac{1}{\\mathbf{1}_M'x}, \\\\\n",
    "$$\n",
    "\n",
    "and\n",
    "\n",
    "$$\n",
    "y^* = \\frac{1}{\\mathbf{1}_N'y}y,\\quad u = \\frac{1}{\\mathbf{1}_N'y}, \\\\\n",
    "$$\n",
    "\n",
    "where $\\mathbf{1}_M$ is a $m$-dimensional vector of ones, and $\\mathbf{1}_N$ is a $n$-dimensional vector of ones. $(x^*, y^*)$ is the Nash equilibrium that we desire."
   ]
  },
  {
   "cell_type": "markdown",
   "metadata": {},
   "source": [
    "If the game is nondegenerate, then in $P(Q)$, each vertex have $m(n)$ labels. As completely labeled requires the pair to have $m+n$ distint labels, therefore the Nash equilibrium can only be found in pairs of vertices of two best response polyhedra. This implies that we can find a Nash equilibrium by enumerating each pair of vertices until we find a completely labeled one. However, the Lemke-Howson algorithm provides a more efficient way that avoids enumerating, which is called \"pivoting\", as we will see in the following."
   ]
  },
  {
   "cell_type": "markdown",
   "metadata": {},
   "source": [
    "### Lemke-Howson Algorithm for Finding Completely Labeled Pairs of Vertices"
   ]
  },
  {
   "cell_type": "markdown",
   "metadata": {},
   "source": [
    "By all defintion, $(\\mathbf{0}, \\mathbf{0}) \\in P \\times Q$ is completely labeled. However, it is not a Nash equilibrium. We call it \"artificial equilibrium\". The Lemke-Howson algorithm starts from $(\\mathbf{0}, \\mathbf{0})$, and moves to a vertex next to the previous one by replacing the labels in $P$ and $Q$ in turn until it reaches a completely labeled pair, and thus an un-normalized Nash equilibrium is found.\n",
    "\n",
    "In the previous example, this procedure would be as follows:\n",
    "\n",
    "* $(\\mathbf{0}, \\mathbf{0})$ has labels {0, 1, 2}, {3, 4}\n",
    "* $(\\mathbf{0}, \\mathbf{0}) \\rightarrow (c, \\mathbf{0})$ with label {0, 2, 4}, {3, 4}  \n",
    " Drop label 1 in $P$ (label to drop is arbitrarily chosen in the first step). Label 4 is picked up.\n",
    "* $(c, \\mathbf{0}) \\rightarrow (c, p)$ with label {0, 2, 4}, {2, 3}  \n",
    " Drop label 4 in $Q$ as it is duplicated label of both $x$ and $y$. Label 2 is picked up.\n",
    "* $(c, p) \\rightarrow (d, p)$ with label {0, 3, 4}, {2, 3}  \n",
    " Drop label 2 in $P$ as it is duplicated label of both $x$ and $y$. Label 3 is picked up.\n",
    "* ... ...\n",
    "* Continue the procedure, until $(d, q)$ is achieved, which is completely labeled, and thus is a un-normalized Nash equilibrium."
   ]
  },
  {
   "cell_type": "markdown",
   "metadata": {},
   "source": [
    "### Complementary Pivoting"
   ]
  },
  {
   "cell_type": "markdown",
   "metadata": {},
   "source": [
    "To implement the process of dropping and picking up labels, we introduce a technique called complementary pivoting, using slack variables denoted as $s_3, s_4, r_0, r_1, r_2$:\n",
    "\n",
    "$$\n",
    "\\begin{matrix}\n",
    "3 x_0 & + 2 x_1 & + 3 x_2 & + s_3 & & = 1\\\\\n",
    "2 x_0 & + 6 x_1 & + x_2 & & + s_4 & = 1 \\\\\n",
    "\\\\\n",
    "r_0 & & & + 3 y_3 & + 3 y_4 & = 1\\\\\n",
    " & r_1 & & + 2 y_3 & + 5 y_4 & = 1 \\\\\n",
    " & & r_2 & & + 6 y_4 & = 1 \n",
    "\\end{matrix}\n",
    "$$\n",
    "\n",
    "$x \\geq \\mathbf{0}, s \\geq \\mathbf{0}, r \\geq \\mathbf{0}, y \\geq \\mathbf{0}.$\n",
    "\n",
    "A solution $(x, s, r, y)$ is completely labeled if and only if  \n",
    "$$\n",
    "x^\\prime r = 0, \\quad y^\\prime s = 0.\n",
    "$$\n",
    "\n",
    "Variables in $(x, s, r, y)$ are called *basic variables* if they are positive, and *nonbasic variables* if they are equal to $0$.\n",
    "\n",
    "In this context, the geometric procedure showed above is equivalent to the algebraic procedure below, which we call *pivoting*.\n",
    "\n",
    "During the process, what we need to keep track of are the indices of basic variables, the coefficients of linear equations systems, and the values on the right-hand side. The latter two terms can be saved in arrays, which we denote as *tableaux*.\n",
    "\n",
    "$$\n",
    "\\text{tableau}_1 = \n",
    "\\begin{bmatrix}\n",
    "3 & 2 & 3 & 1 & 0 & 1 \\\\\n",
    "2 & 6 & 1 & 0 & 1 & 1 \\\\\n",
    "\\end{bmatrix},\n",
    "$$\n",
    "\n",
    "and \n",
    "\n",
    "$$\n",
    "\\text{tableau}_2 =\n",
    "\\begin{bmatrix}\n",
    "1 & 0 & 0 & 3 & 3 & 1 \\\\\n",
    "0 & 1 & 0 & 2 & 5 & 1 \\\\\n",
    "0 & 0 & 1 & 0 & 6 & 1 \n",
    "\\end{bmatrix},\n",
    "$$\n",
    "\n",
    "respectively."
   ]
  },
  {
   "cell_type": "markdown",
   "metadata": {},
   "source": [
    "In detail, the algorithm works as follows:\n",
    "\n",
    "1. Given two tableaux and lists of basic variables, we start from $(\\mathbf{0}, \\mathbf{0})$ with the initial basic variables being $\\{s_3, s_4\\}$ and $\\{r_0, r_1, r_2\\}$.\n",
    "2. Start with pivoting in $P$. The initial pivot indice can be arbitrarily chosen. Because of the nonnegativity constraint, the basic variable to be replaced is decided by minimum ratio test. Then update the tableau and basis of $P$ by dropping and adding basic variables.\n",
    "3. Do pivoting in $Q$. Check whether the newly dropped basic variable has the same indice with the first added basic variable by initial pivoting. If it does, then the solution is completely labeled, and a Nash equilibrium has been found.\n",
    "4. Repeat 3, until a Nash equilibirum is found. \n",
    "\n",
    "Note that we will not be in infinite loop, as the existence of Nash equilibrium is guaranteed."
   ]
  },
  {
   "cell_type": "markdown",
   "metadata": {},
   "source": [
    "### Implementation"
   ]
  },
  {
   "cell_type": "markdown",
   "metadata": {},
   "source": [
    "First step, we create tableaux and lists of indices of basic variables. Note that the indices of the list of basic variables correspond to the row indices of tableau in order respectively. (the example below will show this in detail)"
   ]
  },
  {
   "cell_type": "code",
   "execution_count": 8,
   "metadata": {
    "collapsed": false
   },
   "outputs": [],
   "source": [
    "def initialize_tableaux(payoff_matrices):\n",
    "\n",
    "    m, n = payoff_matrices[0].shape\n",
    "    tableaux = (np.empty((n, m+n+1)), np.empty((m, n+m+1)))\n",
    "    bases = (np.arange(m, m+n), np.arange(0, m))\n",
    "\n",
    "    # Player 0\n",
    "    # fill the tableau of Player0\n",
    "    tableaux[0][:, :m] = payoff_matrices[1]\n",
    "    tableaux[0][:, m:m+n] = np.identity(n)\n",
    "    tableaux[0][:, -1] = 1\n",
    "\n",
    "    # Player 1\n",
    "    # create tableau of Player1\n",
    "    tableaux[1][:, :m] = np.identity(m)\n",
    "    tableaux[1][:, m:m+n] = payoff_matrices[0]\n",
    "    tableaux[1][:, -1] = 1\n",
    "\n",
    "    return tableaux, bases\n",
    "\n",
    "\n",
    "tableaux, bases = initialize_tableaux([A, B])"
   ]
  },
  {
   "cell_type": "code",
   "execution_count": 9,
   "metadata": {
    "collapsed": false,
    "scrolled": true
   },
   "outputs": [
    {
     "data": {
      "text/plain": [
       "(array([[ 3.,  2.,  3.,  1.,  0.,  1.],\n",
       "        [ 2.,  6.,  1.,  0.,  1.,  1.]]),\n",
       " array([[ 1.,  0.,  0.,  3.,  3.,  1.],\n",
       "        [ 0.,  1.,  0.,  2.,  5.,  1.],\n",
       "        [ 0.,  0.,  1.,  0.,  6.,  1.]]))"
      ]
     },
     "execution_count": 9,
     "metadata": {},
     "output_type": "execute_result"
    }
   ],
   "source": [
    "tableaux"
   ]
  },
  {
   "cell_type": "code",
   "execution_count": 10,
   "metadata": {
    "collapsed": false
   },
   "outputs": [
    {
     "data": {
      "text/plain": [
       "(array([3, 4]), array([0, 1, 2]))"
      ]
     },
     "execution_count": 10,
     "metadata": {},
     "output_type": "execute_result"
    }
   ],
   "source": [
    "bases"
   ]
  },
  {
   "cell_type": "markdown",
   "metadata": {},
   "source": [
    "Consider the first list of indices of basic variables as example. The first element is $3$, which means the basic variable for first row of $\\text{tableu}_1$ is $s_3$. Similarly, the basic variable for second row of $\\text{tableu}_1$ is $s_4$. "
   ]
  },
  {
   "cell_type": "markdown",
   "metadata": {},
   "source": [
    "Define the `min_ratio_test` function for deciding the leaving basic variable, given the indice of the entering basic variable in a pivoting process."
   ]
  },
  {
   "cell_type": "code",
   "execution_count": 11,
   "metadata": {
    "collapsed": true
   },
   "outputs": [],
   "source": [
    "def min_ratio_test(tableau, pivot):\n",
    "    \n",
    "    ind_nonpositive = tableau[:, pivot] <= 0\n",
    "    # we suppress the \"divide by zero\" warning message\n",
    "    with np.errstate(divide='ignore', invalid='ignore'):\n",
    "        ratios = tableau[:, -1] / tableau[:, pivot]\n",
    "    # leave out the pivots that have negative ratio\n",
    "    ratios[ind_nonpositive] = np.inf\n",
    "    # find the pivot with minimum ratio, under nonnegativity condition\n",
    "    row_min = ratios.argmin()\n",
    "    \n",
    "    return row_min"
   ]
  },
  {
   "cell_type": "markdown",
   "metadata": {},
   "source": [
    "The `Pivoting` function below is for updating the tableau after we decide the basic variables to be added and dropped."
   ]
  },
  {
   "cell_type": "code",
   "execution_count": 12,
   "metadata": {
    "collapsed": true
   },
   "outputs": [],
   "source": [
    "def pivoting(tableau, pivot, pivot_row):\n",
    "    \"\"\"\n",
    "    Perform a pivoting step.\n",
    "\n",
    "    Parameters\n",
    "    ----------\n",
    "    tableau : ndarray(float, ndim=2)\n",
    "        The tableau to be updated\n",
    "\n",
    "    pivot : scalar(int)\n",
    "        The indice of entering basic variable\n",
    "\n",
    "    pivot_row: scalar(int)\n",
    "        The row indice of tableau chosen by minimum ratio test\n",
    "        the corresponding basic variable is going to be dropped\n",
    "\n",
    "    Returns\n",
    "    -------\n",
    "    tableau : ndarray(float, ndim=2)\n",
    "        The updated tableau\n",
    "\n",
    "    \"\"\"\n",
    "    # Row indices except pivot_row\n",
    "    ind = np.ones(tableau.shape[0], dtype=bool)\n",
    "    ind[pivot_row] = False\n",
    "    \n",
    "    # Store the values in the pivot column, except for row_min\n",
    "    # Made 2-dim by np.newaxis\n",
    "    multipliers = tableau[ind, pivot, np.newaxis]\n",
    "    \n",
    "    # Update the tableau\n",
    "    tableau[pivot_row, :] /= tableau[pivot_row, pivot]\n",
    "    tableau[ind, :] -= tableau[pivot_row, :] * multipliers\n",
    "    \n",
    "    return tableau"
   ]
  },
  {
   "cell_type": "markdown",
   "metadata": {},
   "source": [
    "In the following, we define the function for doing pivoting process recursively until a completely labeled pair is found, taking tableaux and lists of indices of basic variables as arguments."
   ]
  },
  {
   "cell_type": "code",
   "execution_count": 13,
   "metadata": {
    "collapsed": false
   },
   "outputs": [],
   "source": [
    "def lemke_howson_tbl(tableaux, bases, init_pivot, max_iter=10**6):\n",
    "    \"\"\"\n",
    "    Main body of the Lemke-Howson algorithm implementation.\n",
    "\n",
    "    Parameters\n",
    "    ----------\n",
    "    tableaux : tuple(ndarray(float, ndim=2))\n",
    "        Tuple of two arrays containing the tableaux, of shape (n, m+n+1)\n",
    "        and (m, m+n+1), respectively. Modified in place.\n",
    "\n",
    "    bases : tuple(ndarray(int, ndim=1))\n",
    "        Tuple of two arrays containing the bases, of shape (n,) and\n",
    "        (m,), respectively. Modified in place.\n",
    "\n",
    "    init_pivot : scalar(int)\n",
    "        Initial pivot, an integer k such that 0 <= k < m+n, where\n",
    "        integers 0, ..., m-1 and m, ..., m+n-1 correspond to the actions\n",
    "        of players 0 and 1, respectively.\n",
    "\n",
    "    max_iter : scalar(int), optional(default=10**6)\n",
    "        Maximum number of pivoting steps.\n",
    "\n",
    "    Returns\n",
    "    -------\n",
    "    converged : bool\n",
    "        Whether the pivoting terminated before `max_iter` was reached.\n",
    "\n",
    "    \"\"\"\n",
    "    init_player = int((bases[0]==init_pivot).any())\n",
    "    players = [init_player, 1 - init_player]\n",
    "\n",
    "    pivot = init_pivot\n",
    "    num_iter = 0\n",
    "    \n",
    "    converged = False\n",
    "\n",
    "    while True:\n",
    "        for i in players:\n",
    "            # Determine the leaving variable\n",
    "            row_min = min_ratio_test(tableaux[i], pivot)\n",
    "            \n",
    "            # Pivoting step: modify tableau in place\n",
    "            pivoting(tableaux[i], pivot, row_min)\n",
    "            \n",
    "            # Update the basic variables and the pivot\n",
    "            bases[i][row_min], pivot = pivot, bases[i][row_min]\n",
    "            \n",
    "            num_iter += 1\n",
    "            \n",
    "            if pivot == init_pivot:\n",
    "                converged = True\n",
    "                break\n",
    "            if num_iter >= max_iter:\n",
    "                return converged\n",
    "        else:\n",
    "            continue\n",
    "        break\n",
    "\n",
    "    return converged"
   ]
  },
  {
   "cell_type": "markdown",
   "metadata": {},
   "source": [
    "After the completely pair is found, we can get mixed actions from tableux and lists of indices of basic variables."
   ]
  },
  {
   "cell_type": "code",
   "execution_count": 14,
   "metadata": {
    "collapsed": true
   },
   "outputs": [],
   "source": [
    "def get_mixed_actions(tableaux, bases):\n",
    "\n",
    "    m, n = tableaux[1].shape[0], tableaux[0].shape[0]\n",
    "    \n",
    "    # get the mixed actions and normalize them\n",
    "    out_dtype = np.result_type(*tableaux)\n",
    "    out = np.zeros(m+n, dtype=out_dtype)\n",
    "    for pl, (start, stop) in enumerate(zip((0, m),\n",
    "                                           (m, m+n))):\n",
    "        ind = bases[pl] < stop if pl == 0 else start <= bases[pl]\n",
    "        out[bases[pl][ind]] = tableaux[pl][ind, -1]\n",
    "        out[bases[pl][ind]] /= sum(out[bases[pl][ind]])\n",
    "\n",
    "    return out[:m], out[m:]"
   ]
  },
  {
   "cell_type": "markdown",
   "metadata": {},
   "source": [
    "Finally we wrap all the procedures together, and define a function called `lemke_howson_numpy` which takes `NormalFormGame` as argument."
   ]
  },
  {
   "cell_type": "code",
   "execution_count": 15,
   "metadata": {
    "collapsed": true
   },
   "outputs": [],
   "source": [
    "def lemke_howson_numpy(g, init_pivot=0, max_iter=10**6):\n",
    "    \"\"\"\n",
    "    Wrap the procedure of initializing tableaux, complementary pivoting,\n",
    "    and get the mixed actions.\n",
    "\n",
    "    Parameters\n",
    "    ----------\n",
    "    g : NormalFormGame\n",
    "        NormalFormGame instance with 2 players.\n",
    "\n",
    "    init_pivot : scalar(int), optional(default=0)\n",
    "        Initial pivot, an integer k such that 0 <= k < m+n, where\n",
    "        integers 0, ..., m-1 and m, ..., m+n-1 correspond to the actions\n",
    "        of players 0 and 1, respectively.\n",
    "\n",
    "    max_iter : scalar(int), optional(default=10**6)\n",
    "        Maximum number of pivoting steps.\n",
    "\n",
    "    Returns\n",
    "    -------\n",
    "    NE : tuple(ndarray(float, ndim=1)) or None\n",
    "        Tuple of computed Nash equilibrium mixed actions.\n",
    "        If no Nash equilibrium is found, return None.\n",
    "\n",
    "    \"\"\"\n",
    "    payoff_matrices = tuple(g.players[i].payoff_array for i in range(2))\n",
    "    tableaux, bases = initialize_tableaux(payoff_matrices)\n",
    "    \n",
    "    converged = lemke_howson_tbl(tableaux, bases, init_pivot, max_iter)\n",
    "    if converged:\n",
    "        NE = get_mixed_actions(tableaux, bases)\n",
    "        return NE\n",
    "    else:\n",
    "        print(\"Not converged\")\n",
    "        return None"
   ]
  },
  {
   "cell_type": "code",
   "execution_count": 16,
   "metadata": {
    "collapsed": false
   },
   "outputs": [
    {
     "data": {
      "text/plain": [
       "(array([ 0.        ,  0.33333333,  0.66666667]),\n",
       " array([ 0.33333333,  0.66666667]))"
      ]
     },
     "execution_count": 16,
     "metadata": {},
     "output_type": "execute_result"
    }
   ],
   "source": [
    "# create normal form game\n",
    "g = gt.NormalFormGame((gt.Player(A), gt.Player(B)))\n",
    "\n",
    "init_pivot = 1\n",
    "lemke_howson_numpy(g, init_pivot, 10)"
   ]
  },
  {
   "cell_type": "markdown",
   "metadata": {},
   "source": [
    "As it shows, one Nash equilibrium for this nondegenerate game is:\n",
    "\n",
    "$$\n",
    "x = (0, \\frac{1}{3}, \\frac{2}{3}), \\quad y = (\\frac{1}{3}, \\frac{2}{3}), \\\\\n",
    "u = \\frac{8}{3}, \\quad v = 4.\n",
    "$$"
   ]
  },
  {
   "cell_type": "markdown",
   "metadata": {},
   "source": [
    "We can use the `lemke_howson` routine from `quantecon.py`, which wraps the procedure of creating tableaus and indice lists of basic variables, pivoting, and normalizing the found Nash equilibrium. "
   ]
  },
  {
   "cell_type": "code",
   "execution_count": 17,
   "metadata": {
    "collapsed": false
   },
   "outputs": [
    {
     "data": {
      "text/plain": [
       "(array([ 0.        ,  0.33333333,  0.66666667]),\n",
       " array([ 0.33333333,  0.66666667]))"
      ]
     },
     "execution_count": 17,
     "metadata": {},
     "output_type": "execute_result"
    }
   ],
   "source": [
    "# use lemke_howson with initial pivot being 1\n",
    "gt.lemke_howson(g, init_pivot=1)"
   ]
  },
  {
   "cell_type": "markdown",
   "metadata": {},
   "source": [
    "# Degenerate Games"
   ]
  },
  {
   "cell_type": "markdown",
   "metadata": {},
   "source": [
    "In a degenerate game, the minimum ratio test may have more than one minimizers. In this case, arbitrary tie breaking may lead to cycling, causing the algorithm to fall into an infinite loop."
   ]
  },
  {
   "cell_type": "markdown",
   "metadata": {},
   "source": [
    "For example, consider a game with the payoff matrices being $C$ and $D$ for Player 0 and 1 respectively:\n",
    "\n",
    "$$\n",
    "C =\n",
    "\\begin{bmatrix}\n",
    "0 & 0 & 0 \\\\\n",
    "0 & 1 & 1 \\\\\n",
    "1 & 1 & 0\n",
    "\\end{bmatrix},\n",
    "\\quad\n",
    "D =\n",
    "\\begin{bmatrix}\n",
    "1 & 0 & 1 \\\\\n",
    "1 & 1 & 0 \\\\\n",
    "0 & 0 & 2\n",
    "\\end{bmatrix}.\n",
    "$$\n",
    "\n",
    "As `numpy.argmin()` returns the first indice when there is a tie in a 1-dimensional array, if we still use `lemke_howson_numpy` which utilize `min_ratio_test`, it may fail to find a Nash equilirbium properly because of cycling."
   ]
  },
  {
   "cell_type": "code",
   "execution_count": 18,
   "metadata": {
    "collapsed": false
   },
   "outputs": [
    {
     "name": "stdout",
     "output_type": "stream",
     "text": [
      "Not converged\n"
     ]
    }
   ],
   "source": [
    "C = np.array([[0, 0, 0],\n",
    "              [0, 1, 1],\n",
    "              [1, 1, 0]])\n",
    "D = np.array([[1, 0, 1],\n",
    "              [1, 1, 0],\n",
    "              [0, 0, 2]])\n",
    "\n",
    "g = gt.NormalFormGame((gt.Player(C), gt.Player(D)))\n",
    "lemke_howson_numpy(g, init_pivot=0, max_iter=100)"
   ]
  },
  {
   "cell_type": "markdown",
   "metadata": {},
   "source": [
    "As such, we replace the minimum ratio test with the lexico-minimum ratio test for determining the leaving basic variable in degenerate games.\n",
    "\n",
    "Note that the original system can be written as \n",
    "\n",
    "$$\n",
    "D x + I s = \\mathbf{1},\n",
    "$$\n",
    "\n",
    "where $x$ is the mixed action, and $s$ is the slack variable vector.\n",
    "\n",
    "The lexico-minimum ratio test introduces $(\\epsilon, \\epsilon^1, \\cdots, \\epsilon^n)^\\prime$ to the right hand:\n",
    "\n",
    "$$\n",
    "D x + I s = \\mathbf{1} + (\\epsilon, \\epsilon^1, \\cdots, \\epsilon^n)^\\prime.\n",
    "$$\n",
    "\n",
    "After any number of pivoting steps, the system can be representd by pre-multiplying a inverse of a basic matrix $P$:\n",
    "\n",
    "$$\n",
    "P D x + P I s = P \\mathbf{1} + P (\\epsilon, \\epsilon^1, \\cdots, \\epsilon^n)^\\prime.\n",
    "$$\n",
    "\n",
    "Write $p_{i0} + p_{i1} ε^1 + ··· + p_{in} ε^n$ for the ith entry of the vector in the right hand, and let $d_i$ be the ith row of the pivoting column.\n",
    "\n",
    "The lexico-minimum ratio test break a tie by comparing the $p_{ik}$ and $p_{jk}$ in order:\n",
    "\n",
    "* Choose the minimizers of $p_{i0} / d_{i}$.\n",
    "* If more than one, among them choose the minimizers of $p_{i1} / d_{i}$.\n",
    "* repeat this until there is only one minimizer\n",
    "\n",
    "Note that when implementing this in code, the matrix $P$ is the same with the coefficient matrix of slack variables, and thus we do not need to extend tableau to record more information."
   ]
  },
  {
   "cell_type": "markdown",
   "metadata": {},
   "source": [
    "As the `lemke_howson` routine in `quantecon.py` always uses lexico-minimum ratio test, there is no need to be concerned with nondegenerate games when using it."
   ]
  },
  {
   "cell_type": "code",
   "execution_count": 19,
   "metadata": {
    "collapsed": false
   },
   "outputs": [
    {
     "data": {
      "text/plain": [
       "(array([ 0.        ,  0.66666667,  0.33333333]), array([ 0.,  1.,  0.]))"
      ]
     },
     "execution_count": 19,
     "metadata": {},
     "output_type": "execute_result"
    }
   ],
   "source": [
    "gt.lemke_howson(g, init_pivot=0)"
   ]
  },
  {
   "cell_type": "markdown",
   "metadata": {
    "collapsed": true
   },
   "source": [
    "# Comparing quantecon.lemke_howson and lemke_howson_numpy"
   ]
  },
  {
   "cell_type": "markdown",
   "metadata": {},
   "source": [
    "The `lemke_howson` routine in `quantecon.game_thoery` is accelerated by `numba`, and therefore, the speed of finding a Nash equilibrium is much faster than `lemke_howson_numpy`. Below is a comparison of these two functions."
   ]
  },
  {
   "cell_type": "code",
   "execution_count": 20,
   "metadata": {
    "collapsed": true
   },
   "outputs": [],
   "source": [
    "import timeit"
   ]
  },
  {
   "cell_type": "code",
   "execution_count": 21,
   "metadata": {
    "collapsed": false
   },
   "outputs": [
    {
     "data": {
      "text/plain": [
       "(array([ 0.,  1.]), array([ 0.,  1.]))"
      ]
     },
     "execution_count": 21,
     "metadata": {},
     "output_type": "execute_result"
    }
   ],
   "source": [
    "ns = 10\n",
    "g = gt.random_game((n, n))\n",
    "lemke_howson_numpy(g)\n",
    "gt.lemke_howson(g)"
   ]
  },
  {
   "cell_type": "code",
   "execution_count": 22,
   "metadata": {
    "collapsed": false,
    "scrolled": true
   },
   "outputs": [
    {
     "name": "stdout",
     "output_type": "stream",
     "text": [
      "10 by 10 payoff matrices: \n",
      "lemke_howson_numpy : 1000 loops, best of 3: 329 µs per loop\n",
      "gt.lemke_howson : 10000 loops, best of 3: 23.8 µs per loop\n",
      "\n",
      "\n",
      "11 by 11 payoff matrices: \n",
      "lemke_howson_numpy : 1000 loops, best of 3: 373 µs per loop\n",
      "gt.lemke_howson : 10000 loops, best of 3: 25.5 µs per loop\n",
      "\n",
      "\n",
      "12 by 12 payoff matrices: \n",
      "lemke_howson_numpy : 1000 loops, best of 3: 565 µs per loop\n",
      "gt.lemke_howson : 10000 loops, best of 3: 25.9 µs per loop\n",
      "\n",
      "\n"
     ]
    }
   ],
   "source": [
    "ns = [10, 11, 12]\n",
    "seed = 1234\n",
    "for n in ns:\n",
    "    print(\"{0} by {0} payoff matrices: \".format(n))\n",
    "    g = gt.random_game((n, n), random_state=seed)\n",
    "    print(\"lemke_howson_numpy : \", end='')\n",
    "    %timeit lemke_howson_numpy(g)\n",
    "    print(\"gt.lemke_howson : \", end='')\n",
    "    %timeit gt.lemke_howson(g)\n",
    "    print(\"\\n\")"
   ]
  },
  {
   "cell_type": "code",
   "execution_count": null,
   "metadata": {
    "collapsed": true
   },
   "outputs": [],
   "source": []
  }
 ],
 "metadata": {
  "anaconda-cloud": {},
  "kernelspec": {
   "display_name": "Python [Root]",
   "language": "python",
   "name": "Python [Root]"
  },
  "language_info": {
   "codemirror_mode": {
    "name": "ipython",
    "version": 3
   },
   "file_extension": ".py",
   "mimetype": "text/x-python",
   "name": "python",
   "nbconvert_exporter": "python",
   "pygments_lexer": "ipython3",
   "version": "3.5.2"
  }
 },
 "nbformat": 4,
 "nbformat_minor": 0
}
