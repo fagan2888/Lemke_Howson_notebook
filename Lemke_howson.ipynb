{
 "cells": [
  {
   "cell_type": "markdown",
   "metadata": {},
   "source": [
    "# Lemke Howson: An algorithm to find Nash Equilibrium"
   ]
  },
  {
   "cell_type": "markdown",
   "metadata": {},
   "source": [
    "This notebook introduces Lemke Howson algorithm for finding Nash equilibrium of a two-player normal form game. "
   ]
  },
  {
   "cell_type": "code",
   "execution_count": 1,
   "metadata": {
    "collapsed": true
   },
   "outputs": [],
   "source": [
    "import numpy as np\n",
    "import matplotlib.pyplot as plt\n",
    "import quantecon.game_theory as gt\n",
    "%matplotlib inline"
   ]
  },
  {
   "cell_type": "markdown",
   "metadata": {},
   "source": [
    "## Two-Player Games in Normal Form"
   ]
  },
  {
   "cell_type": "markdown",
   "metadata": {},
   "source": [
    "We are going to find Nash equilibria (pure or mixed action) of a Two-Player Game $g = (I, (A_i)_{i \\in I}, (u_i)_{i \\in I})$, where \n",
    "\n",
    "* $I = \\{0, 1\\}$ is the set of players,\n",
    "* $M = \\{0, ..., m-1\\}, N = \\{m, ..., m+n-1\\}$ are the action spaces,\n",
    "* $\\Delta^L = \\{x \\in \\mathbb{R}^L_+ \\mid \\sum_{\\ell \\in L} x_{\\ell} = 1\\}, L=M, N$ are the mixed action spaces.\n",
    "* $A \\in \\mathbb{R}^{M \\times N}, B \\in \\mathbb{R}^{N \\times M}$ are the payoff matrixs for player 0 and 1, respectively, and similarly the expected payoffs are $x^{\\prime}Ay$ and $y^{\\prime}Bx$."
   ]
  },
  {
   "cell_type": "markdown",
   "metadata": {},
   "source": [
    "### Nash Equilibrium"
   ]
  },
  {
   "cell_type": "markdown",
   "metadata": {},
   "source": [
    "For $x \\in \\Delta^M$ and $y \\in \\Delta^N$, we define\n",
    "\n",
    "$$\n",
    "\\bar{x} = \\underset{j \\in N}{\\arg \\max}(B x)_j, \\quad \n",
    "x^\\circ = \\{i \\in M \\mid x_i = 0\\} \\\\\n",
    "\\bar{y} = \\underset{i \\in M}{\\arg \\max}(A y)_i, \\quad\n",
    "y^\\circ = \\{j \\in N \\mid y_j = 0\\} \\\\\n",
    "\\text{supp}(x) = \\{i \\mid x_i > 0\\}, \\quad \n",
    "\\text{supp}(y) = \\{j \\mid y_j > 0\\}\n",
    "$$\n",
    "\n",
    "According to von Stengel, B. (2007), we can judge whether $(x, y) \\in \\Delta^M \\times \\Delta^N$ is a Nash equilibrium by checking:\n",
    "\n",
    "* $\\text{supp}(x) \\subset \\bar{y}, \\text{supp}(y) \\subset \\bar{x}$, or\n",
    "* $\\bar{y} \\cup x^\\circ = M, \\bar{x} \\cup y^\\circ = N$, which is equivalently $(\\bar{x} \\cup x^\\circ) \\cup (\\bar{y} \\cup y^\\circ) = M \\cup N$.\n",
    "\n",
    "These two conditions are equivalent, and therefore checking one is enough for finding a Nash equilibrium."
   ]
  },
  {
   "cell_type": "markdown",
   "metadata": {},
   "source": [
    "Depending on these two conditions, we may use some algorithms to compute Nash equilibrium of any well-defined two-player normal form game. However, we have to deal with some difficulties when facing degenerate games, as we will see later.\n",
    "\n",
    "We first consider the case of nondegenerate game, which is simpler."
   ]
  },
  {
   "cell_type": "markdown",
   "metadata": {},
   "source": [
    "# Nondegenerate game"
   ]
  },
  {
   "cell_type": "markdown",
   "metadata": {},
   "source": [
    "** Definition: ** A two-player game is nondegenerate if for any $x \\in \\Delta^M$ and any $y \\in \\Delta^N$, we have\n",
    "\n",
    "$$\n",
    "\\left| \\bar{x} \\right| \\leq \\left| \\text{supp}(x) \\right|, \\quad\n",
    "\\left| \\bar{y} \\right| \\leq \\left| \\text{supp}(y) \\right|,\n",
    "$$\n",
    "\n",
    "or equivalently,\n",
    "\n",
    "$$\n",
    "\\left| x^\\circ \\right| + \\left| \\bar{x} \\right| \\leq m, \\quad\n",
    "\\left| y^\\circ \\right| + \\left| \\bar{y} \\right| \\leq n.\n",
    "$$"
   ]
  },
  {
   "cell_type": "markdown",
   "metadata": {},
   "source": [
    "Combined with the condition that a Nash equilibrium should satisfy described above, we know that if $(x, y)$ is a Nash equilibrium of a nondegenerate game, then\n",
    "\n",
    "$$\n",
    "\\left| \\text{supp}(x) \\right| = \\left| \\text{supp}(y) \\right|\n",
    "$$"
   ]
  },
  {
   "cell_type": "markdown",
   "metadata": {},
   "source": [
    "By knowing this, we could exclude a large number of support pairs that are impossible to be a Nash Equilibrium."
   ]
  },
  {
   "cell_type": "markdown",
   "metadata": {},
   "source": [
    "## Support Enumeration"
   ]
  },
  {
   "cell_type": "markdown",
   "metadata": {},
   "source": [
    "Before we introduce Lemke Howson algorithm, we introduce a method to find all Nash equilibria by iterating all mixed actions with equal-sized support pairs, and checking whether they satisfy the necessary and sufficient conditions to be a Nash Equilibrium. This is called *Support Enumeration*."
   ]
  },
  {
   "cell_type": "markdown",
   "metadata": {},
   "source": [
    "For each $k=1, ..., \\text{min}\\{m, n\\}$ and each pair $(I, J)$, $I \\subset M$ and $J \\subset N$, such that $\\left| I \\right| = \\left| J \\right| = k$, the mixed action $(x, y)$ is a Nash equilibrium if it solves the systems of linear equations\n",
    "\n",
    "$$\n",
    "\\sum_{j \\in J} a_{ij} y_j = u \\text{ for } i \\in I, \\quad\n",
    "\\sum_{j \\in J} y_j = 1, \\\\\n",
    "\\sum_{i \\in I} b_{ji} x_i = v \\text{ for } j \\in J, \\quad\n",
    "\\sum_{i \\in I} x_i = 1\n",
    "$$\n",
    "\n",
    "And also satisfies that\n",
    "* $x_i > 0$ for all $i \\in I$ and $y_j >0$ for all $j \\in J$,\n",
    "* $u \\geq \\sum_{j \\in J} a_{ij} y_j$ for all $i \\not \\in I$ and $v \\geq \\sum_{i \\in I} b_{ij} x_i$ for all $j \\not \\in J$."
   ]
  },
  {
   "cell_type": "markdown",
   "metadata": {},
   "source": [
    "The systems of equations can be written in matrix form as \n",
    "\n",
    "$$\n",
    "C \\begin{pmatrix} y_J \\\\ u \\end{pmatrix} = e\n",
    "$$\n",
    "and\n",
    "$$\n",
    "D \\begin{pmatrix} x_I \\\\ v \\end{pmatrix} = e\n",
    "$$\n",
    "with\n",
    "$$\n",
    "C =\n",
    " \\begin{pmatrix}\n",
    " A_{IJ} & -\\mathbf{1} \\\\\n",
    " \\mathbf{1}' & 0\n",
    " \\end{pmatrix}, \\quad\n",
    "D =\n",
    " \\begin{pmatrix}\n",
    " B_{JI} & -\\mathbf{1} \\\\\n",
    " \\mathbf{1}' & 0\n",
    " \\end{pmatrix}, \\quad\n",
    "e = \\begin{pmatrix}\\mathbf{0} \\\\ 1\\end{pmatrix},\n",
    "$$\n",
    "where\n",
    "$A_{IJ}$ is the submatrix of $A$ given by rows $I$ and columns $J$,\n",
    "$B_{JI}$ is the submatrix of $B$ given by rows $J$ and columns $I$, and\n",
    "$\\mathbf{0}$ and $\\mathbf{1}$ are the $k$-dimensional vectors of zeros and ones, respectively."
   ]
  },
  {
   "cell_type": "markdown",
   "metadata": {},
   "source": [
    "Using the algorithm described above, given a well-defined nondegenerate two-player game and a support pair $I, J$, we know whether there is a Nash equilirium corresponding to this support pair, and can calculate the NE $(x, y)$ if there is one."
   ]
  },
  {
   "cell_type": "markdown",
   "metadata": {},
   "source": [
    "### Application"
   ]
  },
  {
   "cell_type": "markdown",
   "metadata": {},
   "source": [
    "We apply the algorithm by writing a function `indiff_mixed_action` which solves the system of linear equations for one player, which is the half of the whole system to find a Nash equilibiurm. In other word, it checks whether there exists a mixed action of opponent with support given, against which the actions in the player's own support are all best responses.\n",
    "\n",
    "* The arguments are\n",
    "  * numpy array `payoff_matrix`;\n",
    "  * list (or numpy array) `own_supp` for the support of the player in consideration;\n",
    "  * list (or numpy array) `opp_supp` for the support of the opponent player;\n",
    "  * numpy array `out` that stores the candidate mixed action.\n",
    "* If there is a mixed action of the opponent with support `opp_supp`\n",
    "  against which the actions in `own_supp` are best responses,\n",
    "  then return `True`; otherwise return `False`.\n",
    "  In the former case, the mixed action is stored in `out`.\n",
    "* Array `out` must be of length equal to the number of the opponent's actions."
   ]
  },
  {
   "cell_type": "code",
   "execution_count": 2,
   "metadata": {
    "collapsed": true
   },
   "outputs": [],
   "source": [
    "def indiff_mixed_action(payoff_matrix, own_supp, opp_supp, out):\n",
    "    # (number of own actions, number of opponent's actions)\n",
    "    nums_actions = payoff_matrix.shape\n",
    "    \n",
    "    # Support size\n",
    "    k = len(own_supp)\n",
    "    \n",
    "    # Matrix in the left hand side of the linear equation\n",
    "    a = np.empty((k+1, k+1))\n",
    "    a[:-1, :-1] = payoff_matrix[own_supp, :][:, opp_supp]\n",
    "    a[-1, :-1] = 1\n",
    "    a[:-1, -1] = -1\n",
    "    a[-1, -1] = 0\n",
    "    \n",
    "    # Vector in the right hand side of the linear equation\n",
    "    b = np.zeros(k+1)\n",
    "    b[-1] = 1\n",
    "    \n",
    "    try:\n",
    "        sol = np.linalg.solve(a, b)\n",
    "    except np.linalg.LinAlgError:\n",
    "        return False\n",
    "    \n",
    "    # Return False immediately if any of the \"probabilities\" is not positive\n",
    "    if (sol[:-1] <= 0).any():\n",
    "        return False\n",
    "    \n",
    "    own_supp_c = np.setdiff1d(np.arange(nums_actions[0]), own_supp)\n",
    "    # Return False immediately if the solution mixed action is not optimal\n",
    "    if (sol[-1] < payoff_matrix[own_supp_c, :][:, opp_supp] @ sol[:-1]).any():\n",
    "        return False\n",
    "    \n",
    "    out.fill(0)\n",
    "    out[opp_supp] = sol[:-1]\n",
    "    return True"
   ]
  },
  {
   "cell_type": "markdown",
   "metadata": {},
   "source": [
    "Given support $I$ and $J$, if for each player, the `indiff_mixed_action` returns `True`, then there is a Nash equilirium with support $I$ and $J$, and the mixed actions are just as calculated."
   ]
  },
  {
   "cell_type": "markdown",
   "metadata": {},
   "source": [
    "Consider the example from von Stengel (2007):\n",
    "\n",
    "$$\n",
    "A =\n",
    "\\begin{bmatrix}\n",
    "3 & 3 \\\\\n",
    "2 & 5 \\\\\n",
    "0 & 6\n",
    "\\end{bmatrix},\n",
    "\\quad\n",
    "B =\n",
    "\\begin{bmatrix}\n",
    "3 & 2 & 3 \\\\\n",
    "2 & 6 & 1 \\\\\n",
    "\\end{bmatrix}.\n",
    "$$"
   ]
  },
  {
   "cell_type": "markdown",
   "metadata": {},
   "source": [
    "The action spaces of players 0 and 1 are replaced with Python indices:\n",
    "$$\n",
    "M = \\{0, 1, 2\\}, \\quad\n",
    "N = \\{0, 1\\}.\n",
    "$$"
   ]
  },
  {
   "cell_type": "markdown",
   "metadata": {},
   "source": [
    "Let's try to use `indiff_mixed_action` to find a Nash equilibrium with $I = \\{0, 1\\}$ and $J = \\{0, 1\\}$."
   ]
  },
  {
   "cell_type": "code",
   "execution_count": 3,
   "metadata": {
    "collapsed": false
   },
   "outputs": [
    {
     "data": {
      "text/plain": [
       "True"
      ]
     },
     "execution_count": 3,
     "metadata": {},
     "output_type": "execute_result"
    }
   ],
   "source": [
    "# Define a two-player normal form game\n",
    "A = np.array([[3, 3],\n",
    "              [2, 5],\n",
    "              [0 ,6]])\n",
    "B = np.array([[3, 2, 3],\n",
    "              [2, 6, 1]])\n",
    "m, n = A.shape  # Numbers of actions of players 0 and 1, respectively\n",
    "M = np.arange(m)\n",
    "N = np.arange(n)\n",
    "\n",
    "# Set the equal-sized support pari I, J\n",
    "I = [0, 1]\n",
    "J = [0, 1]\n",
    "\n",
    "out = np.empty(n)\n",
    "indiff_mixed_action(A, I, J, out)"
   ]
  },
  {
   "cell_type": "code",
   "execution_count": 4,
   "metadata": {
    "collapsed": false
   },
   "outputs": [
    {
     "data": {
      "text/plain": [
       "array([ 0.66666667,  0.33333333])"
      ]
     },
     "execution_count": 4,
     "metadata": {},
     "output_type": "execute_result"
    }
   ],
   "source": [
    "out"
   ]
  },
  {
   "cell_type": "markdown",
   "metadata": {},
   "source": [
    "To find all Nash equilibria of a normal form game, we just iterate all possible combinations of $I$ and $J$, and then apply `indiff_mixed_action` to each players with each support pair. If `indiff_mixed_action` returns `True` for both players, we store mixed actions in list `NEs`."
   ]
  },
  {
   "cell_type": "markdown",
   "metadata": {},
   "source": [
    "This iteration procedure is wrapped by a function `gt.support_enumeration` which takes `NormalFormGame` as argument."
   ]
  },
  {
   "cell_type": "code",
   "execution_count": 5,
   "metadata": {
    "collapsed": false
   },
   "outputs": [
    {
     "data": {
      "text/plain": [
       "[(array([ 1.,  0.,  0.]), array([ 1.,  0.])),\n",
       " (array([ 0.8,  0.2,  0. ]), array([ 0.66666667,  0.33333333])),\n",
       " (array([ 0.        ,  0.33333333,  0.66666667]),\n",
       "  array([ 0.33333333,  0.66666667]))]"
      ]
     },
     "execution_count": 5,
     "metadata": {},
     "output_type": "execute_result"
    }
   ],
   "source": [
    "g = gt.NormalFormGame((gt.Player(A), gt.Player(B)))\n",
    "gt.support_enumeration(g)"
   ]
  },
  {
   "cell_type": "markdown",
   "metadata": {},
   "source": [
    "There exist 3 NEs in this example."
   ]
  },
  {
   "cell_type": "markdown",
   "metadata": {},
   "source": [
    "Support Enumeration has one drawback, that the number of equal-sized support pairs increases quickly as the game gets larger:\n",
    "\n",
    "If $m = n$, the number of equal-sized support pairs is \n",
    "\n",
    "$$\n",
    "\\sum^n_{k=1} \\binom{n} {k} ^2 = \\binom {2n} {n} - 1 \\approx \\frac{4^n}{\\sqrt{\\pi n}}\n",
    "$$\n",
    "\n",
    "We can see that the number of equal-sized support pairs increase exponentially. That's why Lemke-Howson algorithm is more desirable, which is less computational intensive."
   ]
  },
  {
   "cell_type": "markdown",
   "metadata": {
    "collapsed": true
   },
   "source": [
    "## Lemke Howson"
   ]
  },
  {
   "cell_type": "markdown",
   "metadata": {},
   "source": [
    "To overcome the drawback of Support Enumeration algorithm, Lemke Howson algorithm is developed. To see how does this algorithm work, let's first introcude a representation of Nash Equlibrium by Polyhedra and Labels."
   ]
  },
  {
   "cell_type": "markdown",
   "metadata": {},
   "source": [
    "### Polyhedra and Labels"
   ]
  },
  {
   "cell_type": "markdown",
   "metadata": {},
   "source": [
    "Given a bimatrix game with payoff matrixs being $A$ and $B$ for player 0, 1 respectively, the best response can be represented as a polyhedron:\n",
    "\n",
    "$$\n",
    "\\bar{P} = \\{(x, v) \\in \\mathbb{R}^M \\times \\mathbb{R} \\mid x\\geq \\mathbf{0}, B x \\leq v \\mathbf{1}, \\mathbf{1}^{\\prime}x = 1\\} \\\\\n",
    "\\bar{Q} = \\{(y, u) \\in \\mathbb{R}^N \\times \\mathbb{R} \\mid y\\geq \\mathbf{0}, A y \\leq u \\mathbf{1}, \\mathbf{1}^{\\prime}y = 1\\}\n",
    "$$\n",
    "\n",
    "where $x \\in \\Delta^M$, $y \\in \\Delta^N$. $v$ is the upper bound of expected payoffs for player 1 choosing pure actions when player 0's mixed action is $x$. Similarly, $u$ is the upper bound of expected payoffs for player 0.  \n",
    "\n",
    "Define the *label* of a point in best response polyhedron as:  \n",
    "\n",
    "* $(x, v) \\in \\bar{P}$ has *label* $k \\in M \\cup N$ if \n",
    " * for $k = j \\in N$, $(B x)_{j} = v$, so that $j \\in \\bar{x}$, or,\n",
    " * for $k = i \\in M$, $x_i = 0$, so that $i \\in x^{\\circ}$.\n",
    " \n",
    "* $(y, u) \\in \\bar{Q}$ has *label* $k \\in M \\cup N$ if \n",
    " * for $k = i \\in M$, $(A y)_{i} = u$, so that $i \\in \\bar{y}$, or,\n",
    " * for $k = j \\in N$, $y_j = 0$, so that $j \\in y^{\\circ}$.\n",
    " \n",
    "Without loss of generality, we assume that $A$ and $B$ are nonnegative and have no zero column. Dividing by $v$ and $u$, we can trun the best response polyhedron into a best response polytope:\n",
    "\n",
    "$$\n",
    "P = \\{x \\in \\mathbb{R}^M \\mid x \\geq \\mathbf{0}, B x \\leq 1 \\} \\\\\n",
    "Q = \\{y \\in \\mathbb{R}^N \\mid y\\geq \\mathbf{0}, A y \\leq 1\\}\n",
    "$$"
   ]
  },
  {
   "cell_type": "markdown",
   "metadata": {},
   "source": [
    "Using the same example as in the Support Enumeration, where \n",
    "\n",
    "$$\n",
    "M = \\{0, 1, 2\\}, \\quad\n",
    "N = \\{3, 4\\}. \\\\\n",
    "A =\n",
    "\\begin{bmatrix}\n",
    "3 & 3 \\\\\n",
    "2 & 5 \\\\\n",
    "0 & 6\n",
    "\\end{bmatrix},\n",
    "\\quad\n",
    "B =\n",
    "\\begin{bmatrix}\n",
    "3 & 2 & 3 \\\\\n",
    "2 & 6 & 1 \\\\\n",
    "\\end{bmatrix}.\n",
    "$$\n",
    "\n",
    "We can draw the best response polytope as follows.\n",
    "\n",
    "(Note that here the actions are indexd as $\\{0, 1, 2\\}$ and $ \\{3, 4\\}$ to prevent ambiguity. When we implement the Lemke Howson algorithm using Python, it will be indexed by $\\{0, 1, 2\\}$ and $ \\{0, 1\\}$ as before.)"
   ]
  },
  {
   "cell_type": "code",
   "execution_count": 6,
   "metadata": {
    "collapsed": false,
    "scrolled": false
   },
   "outputs": [
    {
     "data": {
      "image/png": "[encoded data removed]",
      "text/plain": [
       "<matplotlib.figure.Figure at 0x11aae4d68>"
      ]
     },
     "metadata": {},
     "output_type": "display_data"
    },
    {
     "data": {
      "image/png": "[encoded data removed]",
      "text/plain": [
       "<matplotlib.figure.Figure at 0x11cf2bda0>"
      ]
     },
     "metadata": {},
     "output_type": "display_data"
    }
   ],
   "source": [
    "# Draw the pictures of polytopes\n",
    "from itertools import combinations\n",
    "from mpl_toolkits.mplot3d import Axes3D\n",
    "\n",
    "A_H = np.empty((5, 2))\n",
    "A_H[:3, :] = A\n",
    "A_H[3:, :] = -np.eye(2)\n",
    "b_H = np.ones(5)\n",
    "b_H[3:] = 0\n",
    "\n",
    "B_H = np.empty((5, 3))\n",
    "B_H[:3, :] = -np.eye(3)\n",
    "B_H[3:, :] = B\n",
    "b2_H = np.ones(5)\n",
    "b2_H[2:] = 0\n",
    "\n",
    "# solve vertexs\n",
    "vertex = []\n",
    "constraint_ind = []\n",
    "for ind in list(combinations(np.arange(0, 5), 2)):\n",
    "    try:\n",
    "        point = np.linalg.solve(A_H[ind, :], [b_H[z] for z in range(len(b_H)) if z in ind])\n",
    "        if (A_H.dot(point) - b_H <= 0).all():\n",
    "            vertex.append(point)\n",
    "            constraint_ind.append(ind)\n",
    "    except:\n",
    "        None\n",
    "        \n",
    "plt.figure()\n",
    "drawed = []\n",
    "z = 0\n",
    "for (i, v1) in enumerate(vertex):\n",
    "    for (j, v2) in enumerate(vertex):\n",
    "        constraint_common = set(constraint_ind[i]).intersection(set(constraint_ind[j]))\n",
    "        if len(constraint_common) == 1:\n",
    "            if constraint_common not in drawed:\n",
    "                plt.plot([v1[0], v2[0]], [v1[1], v2[1]])\n",
    "                plt.text(*(v1+v2)/2, str(list(constraint_common)[0] + 1))\n",
    "                z += 1\n",
    "                drawed.append(constraint_common)\n",
    "plt.scatter([x for x, y in vertex], [y for x, y in vertex])\n",
    "\n",
    "z = 0\n",
    "pts = ['r', 's', 'q', 'p', '0']\n",
    "for v in vertex:\n",
    "    v = v + np.array([0.005, 0.005])\n",
    "    plt.text(*v, pts[z])\n",
    "    z += 1\n",
    "\n",
    "# solve vertexs\n",
    "vertex = []\n",
    "constraint_ind = []\n",
    "for ind in list(combinations(np.arange(0, 5), 3)):\n",
    "    try:\n",
    "        point = np.linalg.solve(B_H[ind, :], [b2_H[z] for z in range(len(b_H)) if z in ind])\n",
    "        if (B_H.dot(point) - b2_H <= 0).all():\n",
    "            vertex.append(point)\n",
    "            constraint_ind.append(ind)\n",
    "    except:\n",
    "        None\n",
    "\n",
    "fig = plt.figure()\n",
    "ax2 = fig.add_subplot(111, projection='3d')\n",
    "drawed = []\n",
    "for (i, v1) in enumerate(vertex):\n",
    "    for (j, v2) in enumerate(vertex):\n",
    "        constraint_common = set(constraint_ind[i]).intersection(set(constraint_ind[j]))\n",
    "        if len(constraint_common) == 2:\n",
    "            if constraint_common not in drawed:\n",
    "                ax2.plot([v1[0], v2[0]], [v1[1], v2[1]], [v1[2], v2[2]], 'b')\n",
    "                drawed.append(constraint_common)\n",
    "                \n",
    "for label in range(5):\n",
    "    v = np.zeros(3)\n",
    "    v_n = 0\n",
    "    for i in range(len(vertex)):\n",
    "        if label in constraint_ind[i]:\n",
    "            v += vertex[i]\n",
    "            v_n += 1\n",
    "    \n",
    "    v /= v_n\n",
    "    ax2.text(*v, str(label+1))\n",
    "    \n",
    "pts = ['0', 'e', 'c', 'd', 'a', 'b']\n",
    "z = 0\n",
    "for v in vertex:\n",
    "    v = v + np.array([0.005, 0.005, 0.005])\n",
    "    ax2.text(*v, pts[z])\n",
    "    z += 1\n",
    "ax2.scatter([x for x, y, z in vertex], [y for x, y, z in vertex], [z for x, y, z in vertex])\n",
    "\n",
    "plt.show()"
   ]
  },
  {
   "cell_type": "markdown",
   "metadata": {},
   "source": [
    "![Lemke_Howson_Fig1](https://raw.githubusercontent.com/shizejin/Lemke_Howson_notebook/master/figure_1.png)\n",
    "![Lemke_Howson_Fig1](https://raw.githubusercontent.com/shizejin/Lemke_Howson_notebook/master/figure_2.png)"
   ]
  },
  {
   "cell_type": "markdown",
   "metadata": {},
   "source": [
    "$((x, v), (y, u)) \\in \\bar{P} \\times \\bar{Q}$ is *completely labeled* if every $k \\in M \\cup N$ appears as a label of either $(x, v)$ or $(y, u)$.\n",
    "\n",
    "In the context of best response polyhedron and labels, we can define Nash equilibrium as:  \n",
    "* $(x, y) \\in \\Delta^{M} \\times \\Delta^{N}$ is a Nash equilibrium if and only if $((x, v), (y, u))$ with $u = \\text{max}_i (A y)_i$ and $v = \\text{max}_j (B x)_j$ is completely labeled.\n",
    "\n",
    "The transformed best response polytope is a special case where $u = v = 1$, and we have\n",
    "\n",
    "* $(x, y) \\in P \\times Q$, $(x, y) \\neq (\\mathbf{0}, \\mathbf{0})$, is an (\"un-normalized\") Nash equilibirum if and only if $(x, y)$ is completely labeled."
   ]
  },
  {
   "cell_type": "markdown",
   "metadata": {},
   "source": [
    "If the game is nondegenerate, it is easy to know that in $P(Q)$, only vertices can have $m(n)$ labels.\n",
    "\n",
    "Thus, the Nash equilibrium is confined in vertice pairs of two best response polyhedra. We can find a Nash equilibrium by enumerating vertice pairs to find completely labeled one. However, Lemke Howson algorithm provides a more efficient way that avoids enumerating."
   ]
  },
  {
   "cell_type": "markdown",
   "metadata": {},
   "source": [
    "### Lemke Howson algorithm for finding completely labeled vertice pairs"
   ]
  },
  {
   "cell_type": "markdown",
   "metadata": {},
   "source": [
    "By all defintion, $(\\mathbf{0}, \\mathbf{0}) \\in P \\times Q$ is completely labeled. However, it is not a Nash equilibrium. We call it \"artificial equilibrium\". The Lemke Howson algorithm starts from $(\\mathbf{0}, \\mathbf{0})$, and moves the vertice by replacing the labels in $P$ and $Q$ in turn until it is completely labeled.\n",
    "\n",
    "In detail, in the same example as before:\n",
    "\n",
    "* $(\\mathbf{0}, \\mathbf{0})$ has labels {0, 1, 2}, {3, 4}\n",
    "* $(\\mathbf{0}, \\mathbf{0}) \\rightarrow (c, \\mathbf{0})$ with label {0, 2, 4}, {3, 4}  \n",
    " Drop Label 1 in $P$ (Label to drop is arbitrarily chosen in the first step). Label 4 is picked up.\n",
    "* $(c, \\mathbf{0}) \\rightarrow (c, p)$ with label {0, 2, 4}, {2, 3}  \n",
    " Drop Label 4 in $Q$ as it is label of both $x$ and $y$. Label 2 is picked up.\n",
    "* $(c, p) \\rightarrow (d, p)$ with label {0, 3, 4}, {2, 3}  \n",
    " Drop Label 2 in $P$ as it is label of both $x$ and $y$. Label 3 is picked up.\n",
    "* ... ...\n",
    "* Continue the procedure, until $(d, q)$ is achieved, which is completely labeled, and thus is a un-normalized Nash equilibrium."
   ]
  },
  {
   "cell_type": "markdown",
   "metadata": {},
   "source": [
    "### Complementary Pivoting"
   ]
  },
  {
   "cell_type": "markdown",
   "metadata": {},
   "source": [
    "To implementing the dropping and picking up of labels, we introduce slack variables $s_3, s_4, r_0, r_1, r_2$:\n",
    "\n",
    "$$\n",
    "\\begin{matrix}\n",
    "3 x_0 & + 2 x_1 & + 3 x_2 & + s_3 & & = 1\\\\\n",
    "2 x_0 & + 6 x_1 & + x_2 & & + s_4 & = 1 \\\\\n",
    "\\\\\n",
    "r_0 & & & + 3 y_3 & + 3 y_4 & = 1\\\\\n",
    " & r_1 & & + 2 y_3 & + 5 y_4 & = 1 \\\\\n",
    " & & r_2 & & + 6 y_4 & = 1 \n",
    "\\end{matrix}\n",
    "$$\n",
    "\n",
    "$x \\geq \\mathbf{0}, s \\geq \\mathbf{0}, r \\geq \\mathbf{0}, y \\geq \\mathbf{0}.$\n",
    "\n",
    "A solution $(x, s, r, y)$ is completely labeled if and only if  \n",
    "$$\n",
    "x^\\prime r = 0, \\quad y^\\prime s = 0\n",
    "$$\n",
    "\n",
    "Variables in $(x, s, r, y)$ are called *basic variables* if they are positive, and *nonbasic variables* if they are equal to $0$.\n",
    "\n",
    "In this context, the geometric procedure showed above is equivalent to the algebraic procedure below, which we call *pivoting*.\n",
    "\n",
    "During the process, what we need to record are the indices of basic variables, the coefficients of linear equations systems, and the values on the right-hand side. The latter two terms can be saved in arrays, which we denote as *tableaux*.\n",
    "\n",
    "$$\n",
    "tableau_1 = \n",
    "\\begin{bmatrix}\n",
    "3 & 2 & 3 & 1 & 0 & 1 \\\\\n",
    "2 & 6 & 1 & 0 & 1 & 1 \\\\\n",
    "\\end{bmatrix}\n",
    "$$\n",
    "\n",
    "and \n",
    "\n",
    "$$\n",
    "tableau_2 =\n",
    "\\begin{bmatrix}\n",
    "1 & 0 & 0 & 3 & 3 & 1 \\\\\n",
    "0 & 1 & 0 & 2 & 5 & 1 \\\\\n",
    "0 & 0 & 1 & 0 & 6 & 1 \n",
    "\\end{bmatrix}\n",
    "$$\n",
    "\n",
    "respectively."
   ]
  },
  {
   "cell_type": "markdown",
   "metadata": {},
   "source": [
    "In detail, the algorithm is as follows:\n",
    "\n",
    "1. Input two tableaus and lists of basic variables. As we start from $(\\mathbf{0}, \\mathbf{0})$, the initial basic variables are $\\{s_3, s_4\\}$ and $\\{r_0, r_1, r_2\\}$.\n",
    "2. Start with pivoting in $P$. Initial pivot indice can be arbitrarily chosen. Because nonnegativity constraint, the basic variable to be replaced is decided by minimum ratio test. Then update the tableau and basis of $P$ by dropping and adding basic variables.\n",
    "3. Do pivoting in $Q$. Check whether the newly dropped basic variable has the same indice with the first added basic variable by initial pivoting. If it is, then the solution is completely labeled, and a Nash equilibrium is found.\n",
    "4. Repeat 3 and 4, until a Nash equilibirum is found. (Note that we will not be in infinite loop, as the existence of Nash equilibrium is guaranteed.)"
   ]
  },
  {
   "cell_type": "markdown",
   "metadata": {},
   "source": [
    "### Implementation"
   ]
  },
  {
   "cell_type": "markdown",
   "metadata": {},
   "source": [
    "We simply implement Lemke Howson algorithm using Python, with the same nondegenerate game.\n",
    "\n",
    "First step, we create tableaus and indice lists of basic variables. Note that the indice list of basic variables is corresponding to the rows of tableau in order."
   ]
  },
  {
   "cell_type": "code",
   "execution_count": 7,
   "metadata": {
    "collapsed": false
   },
   "outputs": [],
   "source": [
    "# Player 0\n",
    "#create tableau of Player0\n",
    "tableau0 = np.empty((n, m+n+1))\n",
    "tableau0[:, :m] = B\n",
    "tableau0[:, m:m+n] = np.identity(n)\n",
    "tableau0[:, -1] = 1\n",
    "\n",
    "# the indices of basic variables of Player0 at (0, 0)\n",
    "basic_vars0 = np.arange(m, m+n)\n",
    "\n",
    "# Player 1\n",
    "#create tableau of Player1\n",
    "tableau1 = np.empty((m, n+m+1))\n",
    "tableau1[:, :m] = np.identity(m)\n",
    "tableau1[:, m:m+n] = A\n",
    "tableau1[:, -1] = 1\n",
    "\n",
    "# the indices of basic variables of Player1 at (0, 0)\n",
    "basic_vars1 = np.arange(0, m)"
   ]
  },
  {
   "cell_type": "code",
   "execution_count": 8,
   "metadata": {
    "collapsed": false,
    "scrolled": true
   },
   "outputs": [
    {
     "data": {
      "text/plain": [
       "(array([[ 3.,  2.,  3.,  1.,  0.,  1.],\n",
       "        [ 2.,  6.,  1.,  0.,  1.,  1.]]),\n",
       " array([[ 1.,  0.,  0.,  3.,  3.,  1.],\n",
       "        [ 0.,  1.,  0.,  2.,  5.,  1.],\n",
       "        [ 0.,  0.,  1.,  0.,  6.,  1.]]))"
      ]
     },
     "execution_count": 8,
     "metadata": {},
     "output_type": "execute_result"
    }
   ],
   "source": [
    "tableau0, tableau1"
   ]
  },
  {
   "cell_type": "code",
   "execution_count": 9,
   "metadata": {
    "collapsed": false
   },
   "outputs": [
    {
     "data": {
      "text/plain": [
       "(array([3, 4]), array([0, 1, 2]))"
      ]
     },
     "execution_count": 9,
     "metadata": {},
     "output_type": "execute_result"
    }
   ],
   "source": [
    "basic_vars0, basic_vars1"
   ]
  },
  {
   "cell_type": "markdown",
   "metadata": {},
   "source": [
    "Define `min_ratio_test` function for deciding leaving basic variable, when basic variable with pivot indice is entering."
   ]
  },
  {
   "cell_type": "code",
   "execution_count": 10,
   "metadata": {
    "collapsed": true
   },
   "outputs": [],
   "source": [
    "def min_ratio_test(tableau, pivot):\n",
    "    \n",
    "    ind_nonpositive = tableau[:, pivot] <= 0\n",
    "    # we suppress the \"divide by zero\" warning message\n",
    "    with np.errstate(divide='ignore', invalid='ignore'):\n",
    "        ratios = tableau[:, -1] / tableau[:, pivot]\n",
    "    # leave out the pivots that have negative ratio\n",
    "    ratios[ind_nonpositive] = np.inf\n",
    "    # find the pivot with minimum ratio, under nonnegativity condition\n",
    "    row_min = ratios.argmin()\n",
    "    \n",
    "    return row_min"
   ]
  },
  {
   "cell_type": "markdown",
   "metadata": {},
   "source": [
    "`Pivoting` function is for updating the tableau after we decide entering and leaving basic variables. "
   ]
  },
  {
   "cell_type": "code",
   "execution_count": 11,
   "metadata": {
    "collapsed": true
   },
   "outputs": [],
   "source": [
    "def pivoting(tableau, pivot, pivot_row):\n",
    "    \"\"\"\n",
    "    Perform a pivoting step.\n",
    "    \n",
    "    Parameters\n",
    "    ----------\n",
    "    tableau : ndarray(float, ndim=2)\n",
    "            The tableau to be updated\n",
    "    \n",
    "    pivot : scalar(int)\n",
    "            The indice of entering basic variable\n",
    "            \n",
    "    pivot_row: scalar(int)\n",
    "            The row indice of tableau chosen by minimum ratio test\n",
    "            the corresponding basic variable is going to be dropped\n",
    "    \n",
    "    Returns\n",
    "    -------\n",
    "    tableau : ndarray(float, ndim=2)\n",
    "            The updated tableau\n",
    "            \n",
    "    \"\"\"\n",
    "    # Row indices except pivot_row\n",
    "    ind = np.ones(tableau.shape[0], dtype=bool)\n",
    "    ind[pivot_row] = False\n",
    "    \n",
    "    # Store the values in the pivot column, except for row_min\n",
    "    # Made 2-dim by np.newaxis\n",
    "    multipliers = tableau[ind, pivot, np.newaxis]\n",
    "    \n",
    "    # Update the tableau\n",
    "    tableau[pivot_row, :] /= tableau[pivot_row, pivot]\n",
    "    tableau[ind, :] -= tableau[pivot_row, :] * multipliers\n",
    "    \n",
    "    return tableau"
   ]
  },
  {
   "cell_type": "code",
   "execution_count": 12,
   "metadata": {
    "collapsed": true
   },
   "outputs": [],
   "source": [
    "def lemke_howson_tbl(tableau0, tableau1, basic_vars0, basic_vars1, init_pivot):\n",
    "    \"\"\"\n",
    "    Wrap the procedure of Lemke Howson algorithm.\n",
    "    \n",
    "    Parameters\n",
    "    ----------\n",
    "    tableau0 : ndarray(float, ndim=2)\n",
    "            The tableau of Player 0\n",
    "            \n",
    "    tableau1 : ndarray(float, ndim=2)\n",
    "            The tableau of Player 1\n",
    "            \n",
    "    basic_vars0 : list(int)\n",
    "            The indice list of basic variables of tableau0\n",
    "            \n",
    "    basic_vars1 : list(int)\n",
    "            The indice list of basic variables of tableau1\n",
    "            \n",
    "    init_pivot : scalar(int)\n",
    "            The initial pivot indice, can be arbitrarily chosen\n",
    "            \n",
    "    Returns\n",
    "    -------\n",
    "    out : list(float, ndim=1)\n",
    "        List of concatenated mixed action Nash equilibrium(un-normalized)\n",
    "        of two Players\n",
    "            \n",
    "    \"\"\"\n",
    "    m, n = tableau1.shape[0], tableau0.shape[0]\n",
    "    tableaux = (tableau0, tableau1)\n",
    "    basic_vars = (basic_vars0, basic_vars1)\n",
    "    init_player = int((basic_vars[0]==init_pivot).any())\n",
    "    players = [init_player, 1 - init_player]\n",
    "\n",
    "    pivot = init_pivot\n",
    "\n",
    "    while True:\n",
    "        for i in players:\n",
    "            # Determine the leaving variable\n",
    "            row_min = min_ratio_test(tableaux[i], pivot)\n",
    "            \n",
    "            # Pivoting step: modify tableau in place\n",
    "            pivoting(tableaux[i], pivot, row_min)\n",
    "            \n",
    "            # Update the basic variables and the pivot\n",
    "            basic_vars[i][row_min], pivot = pivot, basic_vars[i][row_min]\n",
    "            \n",
    "            if pivot == init_pivot:\n",
    "                break\n",
    "        else:\n",
    "            continue\n",
    "        break\n",
    "\n",
    "    out_dtype = np.result_type(*tableaux)\n",
    "    out = np.zeros(m+n, dtype=out_dtype)\n",
    "    for i, (start, num) in enumerate(zip((0, m), (m, n))):\n",
    "        ind = basic_vars[i] < start + num if i == 0 else start <= basic_vars[i]\n",
    "        out[basic_vars[i][ind]] = tableaux[i][ind, -1]\n",
    "        \n",
    "    return out"
   ]
  },
  {
   "cell_type": "code",
   "execution_count": 13,
   "metadata": {
    "collapsed": false
   },
   "outputs": [
    {
     "data": {
      "text/plain": [
       "array([ 0.        ,  0.125     ,  0.25      ,  0.08333333,  0.16666667])"
      ]
     },
     "execution_count": 13,
     "metadata": {},
     "output_type": "execute_result"
    }
   ],
   "source": [
    "init_pivot = 1\n",
    "lemke_howson_tbl(tableau0, tableau1, basic_vars0, basic_vars1, init_pivot)"
   ]
  },
  {
   "cell_type": "markdown",
   "metadata": {},
   "source": [
    "By the un-normalized NE returned by `lemke_howson_tbl`, we can calculate the normalized NE:\n",
    "\n",
    "$$\n",
    "x = (0, \\frac{1}{3}, \\frac{2}{3}) \\quad y = (\\frac{1}{3}, \\frac{2}{3}) \\\\\n",
    "u = \\frac{8}{3}, \\quad v = 4\n",
    "$$"
   ]
  },
  {
   "cell_type": "markdown",
   "metadata": {},
   "source": [
    "We can use the `lemke_howson` routine from `quantecon.py`, which wraps the procedure of creating tableaus and indice lists of basic variables, pivoting, and normalizing the found Nash equilibrium. "
   ]
  },
  {
   "cell_type": "code",
   "execution_count": 14,
   "metadata": {
    "collapsed": false
   },
   "outputs": [
    {
     "data": {
      "text/plain": [
       "(array([ 0.        ,  0.33333333,  0.66666667]),\n",
       " array([ 0.33333333,  0.66666667]))"
      ]
     },
     "execution_count": 14,
     "metadata": {},
     "output_type": "execute_result"
    }
   ],
   "source": [
    "# create normal form game\n",
    "g = gt.NormalFormGame((gt.Player(A), gt.Player(B)))\n",
    "# use lemke_howson with initial pivot being 1\n",
    "gt.lemke_howson(g, init_pivot = 1)"
   ]
  },
  {
   "cell_type": "markdown",
   "metadata": {},
   "source": [
    "# Degenerate Games"
   ]
  },
  {
   "cell_type": "markdown",
   "metadata": {},
   "source": [
    "In a degenerate game, the minimum ratio test may have more than one minimizers. In this case, arbitrary tie breaking may lead to cycling, so that the algorithm falls into an infinite loop."
   ]
  },
  {
   "cell_type": "markdown",
   "metadata": {},
   "source": [
    "For example, we change the payoff matrixes for Player 0 and 1 to $C$ and $D$:\n",
    "\n",
    "$$\n",
    "C =\n",
    "\\begin{bmatrix}\n",
    "3 & 3 \\\\\n",
    "2 & 5 \\\\\n",
    "0 & 6\n",
    "\\end{bmatrix},\n",
    "\\quad\n",
    "D =\n",
    "\\begin{bmatrix}\n",
    "3 & 2 & 3 \\\\\n",
    "3 & 6 & 1 \n",
    "\\end{bmatrix}.\n",
    "$$\n",
    "\n",
    "As `numpy.argmin()` returns the first indice when there is a tie in 1-dimensional array, if we still use `lemke_howson_tbl` which utilize `min_ratio_test`, it may fail to find a Nash equilirbium properly."
   ]
  },
  {
   "cell_type": "markdown",
   "metadata": {},
   "source": [
    "We use lexico-minimum ratio test to replace minimum ratio test in a degenerate game for determining the leaving basic variable.\n",
    "\n",
    "Note that the original system can be written as \n",
    "\n",
    "$$\n",
    "D x + I s = \\mathbf{1}\n",
    "$$\n",
    "\n",
    "where $x$ is the mixed action, and $s$ is the slack variable vector.\n",
    "\n",
    "The lexico-minimum ratio test introduce $(\\epsilon, \\epsilon^1, \\cdots, \\epsilon^n)^\\prime$ to the right hand:\n",
    "\n",
    "$$\n",
    "D x + I s = \\mathbf{1} + (\\epsilon, \\epsilon^1, \\cdots, \\epsilon^n)^\\prime\n",
    "$$\n",
    "\n",
    "After any number of pivoting steps, the system can be representd by pre-multiplying a inverse of a basic matrix $P$:\n",
    "\n",
    "$$\n",
    "P D x + P I s = P \\mathbf{1} + P (\\epsilon, \\epsilon^1, \\cdots, \\epsilon^n)^\\prime\n",
    "$$\n",
    "\n",
    "Write $p_{i0} + p_{i1} ε^1 + ··· + p_{in} ε^n$ for the ith entry of the vector in the right hand, and let $d_i$ be the ith row of the pivoting column.\n",
    "\n",
    "The lexico-minimum ratio test break a tie by comparing the $p_{ik}$ and $p_{jk}$ in order:\n",
    "\n",
    "* Choose the minimizers of $p_{i0} / d_{i}$.\n",
    "* If more than one, among them choose the minimizers of $p_{i1} / d_{i}$.\n",
    "* repeat this until there is only one minimizer\n",
    "\n",
    "Note that when implementing this in code, the matrix $P$ is the same with the coefficient matrix of slack variables, and thus we do not need to extend tableau to record more information."
   ]
  },
  {
   "cell_type": "markdown",
   "metadata": {},
   "source": [
    "## Implementation"
   ]
  },
  {
   "cell_type": "code",
   "execution_count": 15,
   "metadata": {
    "collapsed": false
   },
   "outputs": [],
   "source": [
    "# payoff matrixes of a degenerate game\n",
    "C = np.array([[3, 3],\n",
    "              [2, 5],\n",
    "              [0 ,6]])\n",
    "D = np.array([[3, 2, 3],\n",
    "              [3, 6, 1]])\n",
    "\n",
    "# Player 0\n",
    "#create tableau of Player0\n",
    "tableau0 = np.empty((n, m+n+1))\n",
    "tableau0[:, :m] = D\n",
    "tableau0[:, m:m+n] = np.identity(n)\n",
    "tableau0[:, -1] = 1\n",
    "\n",
    "# the indices of basic variables of Player0 at (0, 0)\n",
    "basic_vars0 = np.arange(m, m+n)\n",
    "\n",
    "# Player 1\n",
    "#create tableau of Player1\n",
    "tableau1 = np.empty((m, n+m+1))\n",
    "tableau1[:, :m] = np.identity(m)\n",
    "tableau1[:, m:m+n] = C\n",
    "tableau1[:, -1] = 1\n",
    "\n",
    "# the indices of basic variables of Player1 at (0, 0)\n",
    "basic_vars1 = np.arange(0, m)"
   ]
  },
  {
   "cell_type": "markdown",
   "metadata": {},
   "source": [
    "Note that the `lemke_howson` routine in `quantecon.py` always uses lexico-minimum ratio test, so there is no need to concern about the nondegenerate game when using it."
   ]
  },
  {
   "cell_type": "code",
   "execution_count": 16,
   "metadata": {
    "collapsed": false
   },
   "outputs": [
    {
     "data": {
      "text/plain": [
       "(array([ 0.        ,  0.33333333,  0.66666667]),\n",
       " array([ 0.33333333,  0.66666667]))"
      ]
     },
     "execution_count": 16,
     "metadata": {},
     "output_type": "execute_result"
    }
   ],
   "source": [
    "g = gt.NormalFormGame((gt.Player(C), gt.Player(D)))\n",
    "gt.lemke_howson(g, init_pivot = 1)"
   ]
  },
  {
   "cell_type": "code",
   "execution_count": null,
   "metadata": {
    "collapsed": true
   },
   "outputs": [],
   "source": []
  }
 ],
 "metadata": {
  "anaconda-cloud": {},
  "kernelspec": {
   "display_name": "Python [Root]",
   "language": "python",
   "name": "Python [Root]"
  },
  "language_info": {
   "codemirror_mode": {
    "name": "ipython",
    "version": 3
   },
   "file_extension": ".py",
   "mimetype": "text/x-python",
   "name": "python",
   "nbconvert_exporter": "python",
   "pygments_lexer": "ipython3",
   "version": "3.5.2"
  }
 },
 "nbformat": 4,
 "nbformat_minor": 0
}
