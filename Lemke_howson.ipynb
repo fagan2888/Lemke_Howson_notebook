{
 "cells": [
  {
   "cell_type": "markdown",
   "metadata": {},
   "source": [
    "# Lemke Howson: An algorithm to find Nash Equilibrium"
   ]
  },
  {
   "cell_type": "markdown",
   "metadata": {},
   "source": [
    "This notebook introduces Lemke Howson algorithm for finding Nash equilibrium of a two-player strategic form game. "
   ]
  },
  {
   "cell_type": "code",
   "execution_count": 1,
   "metadata": {
    "collapsed": true
   },
   "outputs": [],
   "source": [
    "import numpy as np"
   ]
  },
  {
   "cell_type": "markdown",
   "metadata": {},
   "source": [
    "## Two-Player Games in Strategic Form"
   ]
  },
  {
   "cell_type": "markdown",
   "metadata": {},
   "source": [
    "We are going to find Nash qquilibria (pure or mixed action) of a Two-Player Games $g = (I, (A_i)_{i \\in I}, (u_i)_{i \\in I})$, where \n",
    "\n",
    "* $I = \\{0, 1\\}$ is the set of players,\n",
    "* $M = \\{1, ..., m\\}, N = \\{m+1, ..., m+n\\}$ are the action spaces,\n",
    "* $\\Delta^L = \\{x \\in \\mathbb{R}^L_+ \\mid \\sum_{l \\in L} x_l = 1\\}, L=M, N$ are the mixed action spaces.\n",
    "* $A \\in \\mathbb{R}^{M \\times N}, B \\in \\mathbb{R}^{M \\times N}$ are the payoff matrixs for player 0 and 1, respectively, and similarly the expected payoffs are $x^{\\prime}Ay$ and $x^{\\prime}By$."
   ]
  },
  {
   "cell_type": "markdown",
   "metadata": {},
   "source": [
    "### Nash Equilibrium"
   ]
  },
  {
   "cell_type": "markdown",
   "metadata": {},
   "source": [
    "For $x \\in \\Delta^M$ and $y \\in \\Delta^N$, we define\n",
    "\n",
    "$$\n",
    "\\bar{x} = \\underset{j \\in N}{\\arg \\max}(B^{\\prime}x)_j, \\quad\n",
    "x^\\circ = \\{i \\in M \\mid x_i = 0\\} \\\\\n",
    "\\bar{y} = \\underset{i \\in M}{\\arg \\max}(A^{\\prime}y)_i, \\quad\n",
    "y^\\circ = \\{j \\in N \\mid y_j = 0\\} \\\\\n",
    "\\text{supp}(x) = \\{i \\mid x_i > 0\\}, \\quad \n",
    "\\text{supp}(y) = \\{j \\mid y_j > 0\\}\n",
    "$$\n",
    "\n",
    "According to von Stengel, B. (2007), we can judge whether $(x, y) \\in \\Delta^M \\times \\Delta^N$ is a Nash equilibrium by checking:\n",
    "\n",
    "* $\\text{supp}(x) \\subset \\bar{y}, \\text{supp}(y) \\subset \\bar{x}$, or\n",
    "* $\\bar{y} \\cup x^\\circ = M, \\bar{x} \\cup y^\\circ = N$, equivalently $(\\bar{x} \\cup x^\\circ) \\cup (\\bar{y} \\cup y^\\circ) = M \\cup N$.\n",
    "\n",
    "These two conditions are equivalent, so checking one is enough to find a Nash equilibrium."
   ]
  },
  {
   "cell_type": "markdown",
   "metadata": {},
   "source": [
    "Depending on these two conditions, we may use some algorithms to compute Nash equilibrium of any well-defined two-player strategic form game. However, we have to deal with some difficulties when facing degenerate games, as we will see later.\n",
    "\n",
    "We first consider the case with nondegenerate game, which is simpler."
   ]
  },
  {
   "cell_type": "markdown",
   "metadata": {},
   "source": [
    "# Nondegenerate game"
   ]
  },
  {
   "cell_type": "markdown",
   "metadata": {},
   "source": [
    "** Definition: ** A two-player game is nondegenerate if for any $x \\in \\Delta^M$ and any $y \\in \\Delta^N$, we have\n",
    "\n",
    "$$\n",
    "\\left| \\bar{x} \\right| \\leq \\left| \\text(supp)(x) \\right|, \\quad\n",
    "\\left| \\bar{y} \\right| \\leq \\left| \\text(supp)(y) \\right|,\n",
    "$$\n",
    "\n",
    "or equivalently,\n",
    "\n",
    "$$\n",
    "\\left| x^\\circ \\right| + \\left| \\bar{x} \\right| \\leq m, \\quad\n",
    "\\left| y^\\circ \\right| + \\left| \\bar{y} \\right| \\leq n.\n",
    "$$"
   ]
  },
  {
   "cell_type": "markdown",
   "metadata": {},
   "source": [
    "Combined with the condition a Nash equilibrium should satisfy described above, we know that if $(x, y)$ is a Nash equilibrium of a nondegenerate game, then\n",
    "\n",
    "$$\n",
    "\\left| \\text{supp}(x) \\right| = \\left| \\text{supp}(y) \\right|\n",
    "$$"
   ]
  },
  {
   "cell_type": "markdown",
   "metadata": {},
   "source": [
    "This reduces the number of possible support pairs for a Nash equilibrium a lot."
   ]
  },
  {
   "cell_type": "markdown",
   "metadata": {},
   "source": [
    "## Support Enumeration"
   ]
  },
  {
   "cell_type": "markdown",
   "metadata": {},
   "source": [
    "Before we introduce Lemke Howson algorithm, we introduce a method to find all Nash equilibria by iterating all mixed actions with equal-sized support pairs, and checking whether they can be a Nash equilibrium. This is called Support Enumeration."
   ]
  },
  {
   "cell_type": "markdown",
   "metadata": {},
   "source": [
    "For each $k=1, ..., min\\{m, n\\}$ and each pair $(I, J)$, $I \\subset M$ and $J \\subset N$, such that $\\left| I \\right| = \\left| J \\right| = k$, the mixed action $(x, y)$ is a Nash equilibrium if it solves the systems of linear equations\n",
    "\n",
    "$$\n",
    "\\sum_{j \\in J} a_{ij} y_j = u \\text{ for } i \\in I, \\quad\n",
    "\\sum_{j \\in J} y_j = 1, \\\\\n",
    "\\sum_{i \\in I} b_{ij} x_i = v \\text{ for } j \\in J, \\quad\n",
    "\\sum_{i \\in I} x_i = 1\n",
    "$$\n",
    "\n",
    "And also satisfies that\n",
    "* $x_i > 0$ for all $i \\in I$ and $y_j >0$ for all $j \\in J$,\n",
    "* $u \\geq \\sum_{j \\in J} a_{ij} y_j$ for all $i \\not \\in I$ and $v \\geq \\sum_{i \\in I} b_{ij} x_i$ for all $j \\not \\in J$."
   ]
  },
  {
   "cell_type": "markdown",
   "metadata": {},
   "source": [
    "The systems of equations can be written in matrix form as \n",
    "\n",
    "$$\n",
    "C \\begin{pmatrix} y_J \\\\ u \\end{pmatrix} = e\n",
    "$$\n",
    "and\n",
    "$$\n",
    "D \\begin{pmatrix} x_I \\\\ v \\end{pmatrix} = e\n",
    "$$\n",
    "with\n",
    "$$\n",
    "C =\n",
    " \\begin{pmatrix}\n",
    " A_{IJ} & -\\mathbf{1} \\\\\n",
    " \\mathbf{1}' & 0\n",
    " \\end{pmatrix}, \\quad\n",
    "D =\n",
    " \\begin{pmatrix}\n",
    " B'_{JI} & -\\mathbf{1} \\\\\n",
    " \\mathbf{1}' & 0\n",
    " \\end{pmatrix}, \\quad\n",
    "e = \\begin{pmatrix}\\mathbf{0} \\\\ 1\\end{pmatrix},\n",
    "$$\n",
    "where\n",
    "$A_{IJ}$ is the submatrix of $A$ given by rows $I$ and columns $J$,\n",
    "$B'_{JI}$ is the submatrix of $B'$ given by rows $J$ and columns $I$, and\n",
    "$\\mathbf{0}$ and $\\mathbf{1}$ are the $k$-dimensional vectors of zeros and ones, respectively."
   ]
  },
  {
   "cell_type": "markdown",
   "metadata": {},
   "source": [
    "Using the algorithm described above, given a well-defined nondegenerate two-player game and a support pair $I, J$, we know whether there is a Nash equilirium corresponding to this support pair, and can calculate the NE $(x, y)$ if there is one.\n",
    "\n",
    "To make it convenient, we denote the actions by indices, which starts with 0 in Python."
   ]
  },
  {
   "cell_type": "markdown",
   "metadata": {},
   "source": [
    "### Code"
   ]
  },
  {
   "cell_type": "markdown",
   "metadata": {},
   "source": [
    "We first write a function which solves the system of linear equations for one player, which is the half of the whole system to find a Nash equilibiurm. In other word, it checks whether there exists a mixed action of opponent with support given, against which the actions in the player's own support are all best responses.\n",
    "\n",
    "* The arguments are\n",
    "  * numpy array `payoff_matrix`;\n",
    "  * list (or numpy array) `own_supp` for the support of the player in consideration;\n",
    "  * list (or numpy array) `opp_supp` for the support of the opponent player;\n",
    "  * numpy array `out` that stores the candidate mixed action.\n",
    "* If there is a mixed action of the opponent with support `opp_supp`\n",
    "  against which the actions in `own_supp` are best responses,\n",
    "  then return `True`; otherwise return `False`.\n",
    "  In the former case, the mixed action is stored in `out`.\n",
    "* Array `out` must be of length equal to the number of the opponent's actions."
   ]
  },
  {
   "cell_type": "code",
   "execution_count": 4,
   "metadata": {
    "collapsed": true
   },
   "outputs": [],
   "source": [
    "def indiff_mixed_action(payoff_matrix, own_supp, opp_supp, out):\n",
    "    # (number of own actions, number of opponent's actions)\n",
    "    nums_actions = payoff_matrix.shape\n",
    "    \n",
    "    # Support size\n",
    "    k = len(own_supp)\n",
    "    \n",
    "    # Matrix in the left hand side of the linear equation\n",
    "    a = np.empty((k+1, k+1))\n",
    "    a[:-1, :-1] = payoff_matrix[own_supp, :][:, opp_supp]\n",
    "    a[-1, :-1] = 1\n",
    "    a[:-1, -1] = -1\n",
    "    a[-1, -1] = 0\n",
    "    \n",
    "    # Vector in the right hand side of the linear equation\n",
    "    b = np.zeros(k+1)\n",
    "    b[-1] = 1\n",
    "    \n",
    "    try:\n",
    "        sol = np.linalg.solve(a, b)\n",
    "    except np.linalg.LinAlgError:\n",
    "        return False\n",
    "    \n",
    "    # Return False immediately if any of the \"probabilities\" is not positive\n",
    "    if (sol[:-1] <= 0).any():\n",
    "        return False\n",
    "    \n",
    "    own_supp_c = np.setdiff1d(np.arange(nums_actions[0]), own_supp)\n",
    "    # Return False immediately if the solution mixed action is not optimal\n",
    "    if (sol[-1] < payoff_matrix[own_supp_c, :][:, opp_supp] @ sol[:-1]).any():\n",
    "        return False\n",
    "    \n",
    "    out.fill(0)\n",
    "    out[opp_supp] = sol[:-1]\n",
    "    return True"
   ]
  },
  {
   "cell_type": "markdown",
   "metadata": {},
   "source": [
    "Given support $I$ and $J$, if for each player, the `indiff_mixed_action` returns `True`, then there is a Nash equilirium with support $I$ and $J$, and the mixed actions are just as calculated."
   ]
  },
  {
   "cell_type": "markdown",
   "metadata": {},
   "source": [
    "To find all Nash equilibria of a strategic form game, we just iterate all possible combinations of $I$ and $J$, and then apply `indiff_mixed_action` to each players with each support pair. If `indiff_mixed_action` returns `True` for both players, we store mixed actions in list `NEs`."
   ]
  },
  {
   "cell_type": "code",
   "execution_count": 8,
   "metadata": {
    "collapsed": true
   },
   "outputs": [],
   "source": [
    "import itertools\n",
    "\n",
    "def support_enumeration(A, B_T):\n",
    "    \"\"\"\n",
    "    Given a nondegenerate m x n bimatrix game (A, B_T), return a list of\n",
    "    all Nash equilibria computed by the support enumeration algorithm.\n",
    "    \n",
    "    Parameters\n",
    "    ----------\n",
    "    A : ndarray(float, ndim=2)\n",
    "        Payoff matrix for player 1, of shape (m, n).\n",
    "    \n",
    "    B_T : ndarray(float, ndim=2)\n",
    "        Payoff matrix for player 2, of shape (n, m).\n",
    "        \n",
    "    Returns\n",
    "    -------\n",
    "    NEs : list(tuple(ndarray(float, ndim=1)))\n",
    "        List containing tuples of Nash equilibrium mixed actions.\n",
    "    \n",
    "    \"\"\"\n",
    "    m, n = A.shape\n",
    "    NEs = []\n",
    "    for k in range(1, min(m, n)+1):\n",
    "        for I in itertools.combinations(range(m), k):\n",
    "            for J in itertools.combinations(range(n), k):\n",
    "                y = np.empty(n)\n",
    "                if indiff_mixed_action(A, list(I), list(J), y):\n",
    "                    x = np.empty(m)\n",
    "                    if indiff_mixed_action(B_T, list(J), list(I), x):\n",
    "                        NEs.append((x, y))\n",
    "    return NEs"
   ]
  },
  {
   "cell_type": "markdown",
   "metadata": {},
   "source": [
    "### Example"
   ]
  },
  {
   "cell_type": "markdown",
   "metadata": {},
   "source": [
    "Consider the example from von Stengel (2007):\n",
    "$$\n",
    "A =\n",
    "\\begin{bmatrix}\n",
    "3 & 3 \\\\\n",
    "2 & 5 \\\\\n",
    "0 & 6\n",
    "\\end{bmatrix},\n",
    "\\quad\n",
    "B =\n",
    "\\begin{bmatrix}\n",
    "3 & 2 \\\\\n",
    "2 & 6 \\\\\n",
    "3 & 1\n",
    "\\end{bmatrix}.\n",
    "$$"
   ]
  },
  {
   "cell_type": "markdown",
   "metadata": {},
   "source": [
    "The action spaces of players 1 and 2 are\n",
    "$$\n",
    "M = \\{0, 1, 2\\}, \\quad\n",
    "N = \\{0, 1\\}.\n",
    "$$"
   ]
  },
  {
   "cell_type": "markdown",
   "metadata": {},
   "source": [
    "Use `indiff_mixed_action` to find a Nash equilibrium, when $I = \\{0, 1\\}$ and $J = \\{0, 1\\}$."
   ]
  },
  {
   "cell_type": "code",
   "execution_count": 13,
   "metadata": {
    "collapsed": false
   },
   "outputs": [
    {
     "data": {
      "text/plain": [
       "True"
      ]
     },
     "execution_count": 13,
     "metadata": {},
     "output_type": "execute_result"
    }
   ],
   "source": [
    "# Define a two-player strategic form game\n",
    "A = np.array([[3, 3],\n",
    "              [2, 5],\n",
    "              [0 ,6]])\n",
    "B = np.array([[3, 2],\n",
    "              [2, 6],\n",
    "              [3, 1]])\n",
    "m, n = A.shape  # Numbers of actions of players 1 and 2, respectively\n",
    "M = np.arange(m)\n",
    "N = np.arange(n)\n",
    "\n",
    "# Set the equal-sized support pari I, J\n",
    "I = [0, 1]\n",
    "J = [0, 1]\n",
    "\n",
    "out = np.empty(n)\n",
    "indiff_mixed_action(A, I, J, out)"
   ]
  },
  {
   "cell_type": "code",
   "execution_count": 14,
   "metadata": {
    "collapsed": false
   },
   "outputs": [
    {
     "data": {
      "text/plain": [
       "array([ 0.66666667,  0.33333333])"
      ]
     },
     "execution_count": 14,
     "metadata": {},
     "output_type": "execute_result"
    }
   ],
   "source": [
    "out"
   ]
  },
  {
   "cell_type": "markdown",
   "metadata": {},
   "source": [
    "Use `support_enumeration`, we can find all Nash equilibria."
   ]
  },
  {
   "cell_type": "code",
   "execution_count": 15,
   "metadata": {
    "collapsed": false
   },
   "outputs": [
    {
     "data": {
      "text/plain": [
       "[(array([ 1.,  0.,  0.]), array([ 1.,  0.])),\n",
       " (array([ 0.8,  0.2,  0. ]), array([ 0.66666667,  0.33333333])),\n",
       " (array([ 0.        ,  0.33333333,  0.66666667]),\n",
       "  array([ 0.33333333,  0.66666667]))]"
      ]
     },
     "execution_count": 15,
     "metadata": {},
     "output_type": "execute_result"
    }
   ],
   "source": [
    "support_enumeration(A, B.T)"
   ]
  },
  {
   "cell_type": "markdown",
   "metadata": {},
   "source": [
    "In this game, there are 3 NEs."
   ]
  },
  {
   "cell_type": "markdown",
   "metadata": {},
   "source": [
    "Support Enumeration has one drawback, that the number of equal-sized support pairs increases quickly as the game gets larger:\n",
    "\n",
    "If $m = n$, the number of equal-sized support pairs is \n",
    "\n",
    "$$\n",
    "\\sum^n_{k=1} \\binom{n} {k} ^2 = \\binom {2n} {n} - 1 \\approx \\frac{4^n}{\\sqrt{\\pi n}}\n",
    "$$\n",
    "\n",
    "We can see that the number of equal-sized support pairs increase exponentially. That's why Lemke-Howson algorithm is more desirable, which is less computational intensive."
   ]
  },
  {
   "cell_type": "code",
   "execution_count": null,
   "metadata": {
    "collapsed": true
   },
   "outputs": [],
   "source": []
  }
 ],
 "metadata": {
  "kernelspec": {
   "display_name": "Python [Root]",
   "language": "python",
   "name": "Python [Root]"
  },
  "language_info": {
   "codemirror_mode": {
    "name": "ipython",
    "version": 3
   },
   "file_extension": ".py",
   "mimetype": "text/x-python",
   "name": "python",
   "nbconvert_exporter": "python",
   "pygments_lexer": "ipython3",
   "version": "3.5.2"
  }
 },
 "nbformat": 4,
 "nbformat_minor": 0
}
